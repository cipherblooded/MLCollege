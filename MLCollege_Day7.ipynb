{
  "nbformat": 4,
  "nbformat_minor": 0,
  "metadata": {
    "kernelspec": {
      "display_name": "Python 3",
      "language": "python",
      "name": "python3"
    },
    "language_info": {
      "codemirror_mode": {
        "name": "ipython",
        "version": 3
      },
      "file_extension": ".py",
      "mimetype": "text/x-python",
      "name": "python",
      "nbconvert_exporter": "python",
      "pygments_lexer": "ipython3",
      "version": "3.7.6"
    },
    "colab": {
      "name": "MLCollege_Day7.ipynb",
      "provenance": [],
      "include_colab_link": true
    }
  },
  "cells": [
    {
      "cell_type": "markdown",
      "metadata": {
        "id": "view-in-github",
        "colab_type": "text"
      },
      "source": [
        "<a href=\"https://colab.research.google.com/github/ultrasmartary/MLCollege/blob/master/MLCollege_Day7.ipynb\" target=\"_parent\"><img src=\"https://colab.research.google.com/assets/colab-badge.svg\" alt=\"Open In Colab\"/></a>"
      ]
    },
    {
      "cell_type": "code",
      "metadata": {
        "id": "BCN4uSTxhctv",
        "colab_type": "code",
        "colab": {},
        "outputId": "4c1a78c2-907d-4a6e-9934-1a6d9d3a6366"
      },
      "source": [
        "#Perceptron: Solving logical-OR problem\n",
        "import numpy as np\n",
        "def step(net):\n",
        "    if net>0:\n",
        "        return 1\n",
        "    else:\n",
        "        return 0\n",
        "    \n",
        "x=np.array([[0,0],[0,1],[1,0],[1,1]])\n",
        "#w=np.array([-0.2,0.4])\n",
        "y=np.array([0,1,1,1])\n",
        "#net3=x*w\n",
        "#print(np.shape(x),x)\n",
        "#print(y)\n",
        "#print(x[0][1])\n",
        "#print(x[1][1])\n",
        "#print(x[2][1])\n",
        "#print(x[3][1])\n",
        "w1=-0.2\n",
        "w2=0.4\n",
        "#print(w1*x[1][0]+w2*x[1][1])\n",
        "#print(y[2])\n",
        "j=1\n",
        "while j<=4:\n",
        "    i=0\n",
        "    while i<=3:\n",
        "        #net2=w[i][0]+w[i][1]\n",
        "        net2=w1*x[i][0]+w2*x[i][1]\n",
        "        #print(net2)\n",
        "        a=step(net2)\n",
        "        #print(y[i],a)\n",
        "        if a!=y[i]:\n",
        "            w1=w1+0.2*(y[i]-a)*x[i][0]\n",
        "            w2=w2+0.2*(y[i]-a)*x[i][1]\n",
        "        print(j,\"x1= \",x[i][0],\"x2= \",x[i][1],\"w1= \",w1,\"w2= \",w2)\n",
        "        i=i+1\n",
        "    j=j+1\n",
        "#a=np.array([1])\n",
        "#b=np.array([0])\n",
        "a=0\n",
        "b=1\n",
        "net1=w1*a+w2*b\n",
        "#net1=w1*a[0]+w2*b[0]\n",
        "#print(w1,w2)\n",
        "print(\"For x1=\",a,\" and x2=\",b,\"y will be:\",step(net1))\n",
        "\n",
        "\n"
      ],
      "execution_count": null,
      "outputs": [
        {
          "output_type": "stream",
          "text": [
            "1 x1=  0 x2=  0 w1=  -0.2 w2=  0.4\n",
            "1 x1=  0 x2=  1 w1=  -0.2 w2=  0.4\n",
            "1 x1=  1 x2=  0 w1=  0.0 w2=  0.4\n",
            "1 x1=  1 x2=  1 w1=  0.0 w2=  0.4\n",
            "2 x1=  0 x2=  0 w1=  0.0 w2=  0.4\n",
            "2 x1=  0 x2=  1 w1=  0.0 w2=  0.4\n",
            "2 x1=  1 x2=  0 w1=  0.2 w2=  0.4\n",
            "2 x1=  1 x2=  1 w1=  0.2 w2=  0.4\n",
            "3 x1=  0 x2=  0 w1=  0.2 w2=  0.4\n",
            "3 x1=  0 x2=  1 w1=  0.2 w2=  0.4\n",
            "3 x1=  1 x2=  0 w1=  0.2 w2=  0.4\n",
            "3 x1=  1 x2=  1 w1=  0.2 w2=  0.4\n",
            "4 x1=  0 x2=  0 w1=  0.2 w2=  0.4\n",
            "4 x1=  0 x2=  1 w1=  0.2 w2=  0.4\n",
            "4 x1=  1 x2=  0 w1=  0.2 w2=  0.4\n",
            "4 x1=  1 x2=  1 w1=  0.2 w2=  0.4\n",
            "For x1= 0  and x2= 1 y will be: 1\n"
          ],
          "name": "stdout"
        }
      ]
    },
    {
      "cell_type": "code",
      "metadata": {
        "id": "zn47X7TAhct9",
        "colab_type": "code",
        "colab": {},
        "outputId": "446f8e1d-880f-4236-92d4-76766e13e7bf"
      },
      "source": [
        "import numpy as np\n",
        "from sklearn.linear_model import Perceptron\n",
        "x=np.array([[0,0],[0,1],[1,0],[1,1]])\n",
        "y=np.array([0,1,1,1])\n",
        "clf = Perceptron()\n",
        "clf.fit(x, y)\n",
        "print(clf.score(x, y))\n",
        "a=np.array([[1,0]])\n",
        "print(clf.predict(a))"
      ],
      "execution_count": null,
      "outputs": [
        {
          "output_type": "stream",
          "text": [
            "1.0\n",
            "[1]\n"
          ],
          "name": "stdout"
        }
      ]
    },
    {
      "cell_type": "code",
      "metadata": {
        "id": "JeTc5sf6hcuF",
        "colab_type": "code",
        "colab": {},
        "outputId": "91e426f4-a5bf-4d1a-9f46-09bdc346fcaf"
      },
      "source": [
        "#SGD: Stochastic Gradient Descent classifier\n",
        "import numpy as np\n",
        "import pandas as pd\n",
        "from sklearn.linear_model import SGDClassifier\n",
        "from sklearn.metrics import confusion_matrix\n",
        "from sklearn.model_selection import learning_curve\n",
        "import matplotlib.pyplot as plt\n",
        "data=pd.read_csv(\"creditcard.csv\")\n",
        "x=data.iloc[:,[1,28]].values\n",
        "y=data.iloc[:,-1].values\n",
        "from sklearn.model_selection import train_test_split\n",
        "x_train, x_test, y_train, y_test = train_test_split(x, y, test_size = 0.25, random_state = 0)\n",
        "clf=SGDClassifier()\n",
        "clf.fit(x_train,y_train)\n",
        "a=clf.predict(x_test)\n",
        "print(clf)\n",
        "cm = confusion_matrix(y_test, a)\n",
        "print(cm)\n",
        "print(clf.score(x_test,y_test))\n",
        "#Curve Plot\n",
        "train_sizes, train_scores, valid_scores = learning_curve(SGDClassifier(), x_train, y_train.ravel(), cv=5)\n",
        "train_scores_mean = np.mean(1-train_scores,axis = 1)\n",
        "validation_scores_mean = np.mean(1-valid_scores,axis =1 )\n",
        "plt.plot(train_sizes, train_scores_mean, label = 'Training error')\n",
        "plt.plot(train_sizes, validation_scores_mean, label = 'Validation error')\n",
        "plt.legend(loc='best')\n",
        "plt.show()\n",
        "#confusion_matrix plot\n",
        "\n",
        "cm=confusion_matrix(y_test,a)\n",
        "fig=plt.figure()\n",
        "ax=fig.add_subplot(111)\n",
        "plt.tight_layout()\n",
        "cax=ax.matshow(cm)\n",
        "plt.title('Confusion Matrix of SGD for the theme Flowers',pad=5)\n",
        "fig.colorbar(cax)\n",
        "plt.show()\n"
      ],
      "execution_count": null,
      "outputs": [
        {
          "output_type": "stream",
          "text": [
            "SGDClassifier(alpha=0.0001, average=False, class_weight=None,\n",
            "              early_stopping=False, epsilon=0.1, eta0=0.0, fit_intercept=True,\n",
            "              l1_ratio=0.15, learning_rate='optimal', loss='hinge',\n",
            "              max_iter=1000, n_iter_no_change=5, n_jobs=None, penalty='l2',\n",
            "              power_t=0.5, random_state=None, shuffle=True, tol=0.001,\n",
            "              validation_fraction=0.1, verbose=0, warm_start=False)\n",
            "[[71082     0]\n",
            " [  120     0]]\n",
            "0.9983146540827504\n"
          ],
          "name": "stdout"
        },
        {
          "output_type": "display_data",
          "data": {
            "image/png": "[encoded data removed]",
            "text/plain": [
              "<Figure size 432x288 with 1 Axes>"
            ]
          },
          "metadata": {
            "tags": [],
            "needs_background": "light"
          }
        },
        {
          "output_type": "display_data",
          "data": {
            "image/png": "[encoded data removed]",
            "text/plain": [
              "<Figure size 432x288 with 2 Axes>"
            ]
          },
          "metadata": {
            "tags": [],
            "needs_background": "light"
          }
        }
      ]
    },
    {
      "cell_type": "code",
      "metadata": {
        "id": "21vw8_r-hcuO",
        "colab_type": "code",
        "colab": {}
      },
      "source": [
        ""
      ],
      "execution_count": null,
      "outputs": []
    }
  ]
}