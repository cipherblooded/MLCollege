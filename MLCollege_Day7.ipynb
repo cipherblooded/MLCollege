{
  "nbformat": 4,
  "nbformat_minor": 0,
  "metadata": {
    "kernelspec": {
      "display_name": "Python 3",
      "language": "python",
      "name": "python3"
    },
    "language_info": {
      "codemirror_mode": {
        "name": "ipython",
        "version": 3
      },
      "file_extension": ".py",
      "mimetype": "text/x-python",
      "name": "python",
      "nbconvert_exporter": "python",
      "pygments_lexer": "ipython3",
      "version": "3.7.6"
    },
    "colab": {
      "name": "MLCollege_Day7.ipynb",
      "provenance": [],
      "include_colab_link": true
    }
  },
  "cells": [
    {
      "cell_type": "markdown",
      "metadata": {
        "id": "view-in-github",
        "colab_type": "text"
      },
      "source": [
        "<a href=\"https://colab.research.google.com/github/ultraSmartAry/MLCollege/blob/master/MLCollege_Day7.ipynb\" target=\"_parent\"><img src=\"https://colab.research.google.com/assets/colab-badge.svg\" alt=\"Open In Colab\"/></a>"
      ]
    },
    {
      "cell_type": "code",
      "metadata": {
        "id": "aqmYMEyLXbmn",
        "colab_type": "code",
        "colab": {
          "base_uri": "https://localhost:8080/",
          "height": 34
        },
        "outputId": "18a7cfb7-7cc9-45f1-e080-a3f20046e18d"
      },
      "source": [
        "from google.colab import drive\n",
        "drive.mount('/content/drive')"
      ],
      "execution_count": 1,
      "outputs": [
        {
          "output_type": "stream",
          "text": [
            "Drive already mounted at /content/drive; to attempt to forcibly remount, call drive.mount(\"/content/drive\", force_remount=True).\n"
          ],
          "name": "stdout"
        }
      ]
    },
    {
      "cell_type": "code",
      "metadata": {
        "id": "BCN4uSTxhctv",
        "colab_type": "code",
        "colab": {
          "base_uri": "https://localhost:8080/",
          "height": 306
        },
        "outputId": "3922cbe2-dc99-4f07-b48b-888d8024237c"
      },
      "source": [
        "#Perceptron: Solving logical-OR problem\n",
        "\n",
        "import numpy as np\n",
        "def step(net):\n",
        "    if net>0:\n",
        "        return 1\n",
        "    else:\n",
        "        return 0\n",
        "    \n",
        "x=np.array([[0,0],[0,1],[1,0],[1,1]])\n",
        "#w=np.array([-0.2,0.4])\n",
        "y=np.array([0,1,1,1])\n",
        "#net3=x*w\n",
        "#print(np.shape(x),x)\n",
        "#print(y)\n",
        "#print(x[0][1])\n",
        "#print(x[1][1])\n",
        "#print(x[2][1])\n",
        "#print(x[3][1])\n",
        "w1=-0.2\n",
        "w2=0.4\n",
        "#print(w1*x[1][0]+w2*x[1][1])\n",
        "#print(y[2])\n",
        "j=1\n",
        "while j<=4:\n",
        "    i=0\n",
        "    while i<=3:\n",
        "        #net2=w[i][0]+w[i][1]\n",
        "        net2=w1*x[i][0]+w2*x[i][1]\n",
        "        #print(net2)\n",
        "        a=step(net2)\n",
        "        #print(y[i],a)\n",
        "        if a!=y[i]:\n",
        "            w1=w1+0.2*(y[i]-a)*x[i][0]\n",
        "            w2=w2+0.2*(y[i]-a)*x[i][1]\n",
        "        print(j,\"x1= \",x[i][0],\"x2= \",x[i][1],\"w1= \",w1,\"w2= \",w2)\n",
        "        i=i+1\n",
        "    j=j+1\n",
        "#a=np.array([1])\n",
        "#b=np.array([0])\n",
        "a=0\n",
        "b=1\n",
        "net1=w1*a+w2*b\n",
        "#net1=w1*a[0]+w2*b[0]\n",
        "#print(w1,w2)\n",
        "print(\"For x1=\",a,\" and x2=\",b,\"y will be:\",step(net1))\n",
        "\n",
        "\n"
      ],
      "execution_count": 2,
      "outputs": [
        {
          "output_type": "stream",
          "text": [
            "1 x1=  0 x2=  0 w1=  -0.2 w2=  0.4\n",
            "1 x1=  0 x2=  1 w1=  -0.2 w2=  0.4\n",
            "1 x1=  1 x2=  0 w1=  0.0 w2=  0.4\n",
            "1 x1=  1 x2=  1 w1=  0.0 w2=  0.4\n",
            "2 x1=  0 x2=  0 w1=  0.0 w2=  0.4\n",
            "2 x1=  0 x2=  1 w1=  0.0 w2=  0.4\n",
            "2 x1=  1 x2=  0 w1=  0.2 w2=  0.4\n",
            "2 x1=  1 x2=  1 w1=  0.2 w2=  0.4\n",
            "3 x1=  0 x2=  0 w1=  0.2 w2=  0.4\n",
            "3 x1=  0 x2=  1 w1=  0.2 w2=  0.4\n",
            "3 x1=  1 x2=  0 w1=  0.2 w2=  0.4\n",
            "3 x1=  1 x2=  1 w1=  0.2 w2=  0.4\n",
            "4 x1=  0 x2=  0 w1=  0.2 w2=  0.4\n",
            "4 x1=  0 x2=  1 w1=  0.2 w2=  0.4\n",
            "4 x1=  1 x2=  0 w1=  0.2 w2=  0.4\n",
            "4 x1=  1 x2=  1 w1=  0.2 w2=  0.4\n",
            "For x1= 0  and x2= 1 y will be: 1\n"
          ],
          "name": "stdout"
        }
      ]
    },
    {
      "cell_type": "code",
      "metadata": {
        "id": "zn47X7TAhct9",
        "colab_type": "code",
        "colab": {
          "base_uri": "https://localhost:8080/",
          "height": 51
        },
        "outputId": "f2f84bd0-2fcf-4f40-ec7c-403d6279d519"
      },
      "source": [
        "import numpy as np\n",
        "from sklearn.linear_model import Perceptron\n",
        "\n",
        "x_train = np.array([[0,0],[0,1],[1,0],[1,1]])\n",
        "y_train = np.array([0,1,1,1])\n",
        "\n",
        "model = Perceptron()\n",
        "\n",
        "model.fit(x_train, y_train)\n",
        "print(model.score(x_train, y_train))\n",
        "x_test = np.array([[1,0]])\n",
        "y_predict = model.predict(x_test)\n",
        "\n",
        "print(y_predict)"
      ],
      "execution_count": 3,
      "outputs": [
        {
          "output_type": "stream",
          "text": [
            "1.0\n",
            "[1]\n"
          ],
          "name": "stdout"
        }
      ]
    },
    {
      "cell_type": "code",
      "metadata": {
        "id": "JeTc5sf6hcuF",
        "colab_type": "code",
        "colab": {
          "base_uri": "https://localhost:8080/",
          "height": 616
        },
        "outputId": "5973a298-644d-4390-aa64-f43453ec25c7"
      },
      "source": [
        "#SGD: Stochastic Gradient Descent classifier\n",
        "\n",
        "import numpy as np\n",
        "import pandas as pd\n",
        "import matplotlib.pyplot as plt\n",
        "from sklearn.linear_model import SGDClassifier\n",
        "from sklearn.model_selection import learning_curve\n",
        "from sklearn.model_selection import train_test_split\n",
        "from sklearn.metrics import confusion_matrix\n",
        "\n",
        "\n",
        "data = pd.read_csv(\"/content/drive/My Drive/Colab_Dataset/creditcard.csv\")\n",
        "x = data.iloc[:,[1,28]].values\n",
        "y = data.iloc[:,-1].values\n",
        "\n",
        "\n",
        "x_train, x_test, y_train, y_test = train_test_split(x, y, test_size = 0.25, random_state = 0)\n",
        "\n",
        "model = SGDClassifier()\n",
        "model.fit(x_train,y_train)\n",
        "\n",
        "print(model.score(x_test,y_test))\n",
        "\n",
        "y_predict = model.predict(x_test)\n",
        "\n",
        "confusionMatrix = confusion_matrix(y_test, y_predict)\n",
        "print(confusionMatrix)\n",
        "\n",
        "\n",
        "#Curve Plot\n",
        "train_sizes, train_scores, valid_scores = learning_curve(SGDClassifier(), x_train, y_train.ravel(), cv=5)\n",
        "\n",
        "train_scores_mean = np.mean(1-train_scores,axis = 1)\n",
        "validation_scores_mean = np.mean(1-valid_scores,axis =1 )\n",
        "\n",
        "plt.plot(train_sizes, train_scores_mean, label = 'Training error')\n",
        "plt.plot(train_sizes, validation_scores_mean, label = 'Validation error')\n",
        "plt.legend(loc='best')\n",
        "plt.show()\n",
        "\n",
        "#confusion_matrix plot\n",
        "confusionMatrix = confusion_matrix(y_test,y_predict)\n",
        "fig = plt.figure()\n",
        "ax = fig.add_subplot(111)\n",
        "plt.tight_layout()\n",
        "cax = ax.matshow(confusionMatrix)\n",
        "plt.title('Confusion Matrix of SGD for the theme Flowers',pad=5)\n",
        "fig.colorbar(cax)\n",
        "plt.show()\n"
      ],
      "execution_count": 4,
      "outputs": [
        {
          "output_type": "stream",
          "text": [
            "0.9983146540827504\n",
            "[[71082     0]\n",
            " [  120     0]]\n"
          ],
          "name": "stdout"
        },
        {
          "output_type": "display_data",
          "data": {
            "image/png": "[encoded data removed]",
            "text/plain": [
              "<Figure size 432x288 with 1 Axes>"
            ]
          },
          "metadata": {
            "tags": [],
            "needs_background": "light"
          }
        },
        {
          "output_type": "display_data",
          "data": {
            "image/png": "[encoded data removed]",
            "text/plain": [
              "<Figure size 432x288 with 2 Axes>"
            ]
          },
          "metadata": {
            "tags": [],
            "needs_background": "light"
          }
        }
      ]
    }
  ]
}