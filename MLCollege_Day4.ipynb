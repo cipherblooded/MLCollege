{
  "nbformat": 4,
  "nbformat_minor": 0,
  "metadata": {
    "colab": {
      "name": "MLCollege_Day4.ipynb",
      "provenance": [],
      "mount_file_id": "1SixxATgqWWubO1NccoN5Wn7U1vwrad-a",
      "authorship_tag": "ABX9TyMMM9zvF+cSORwVRHHdJZmC",
      "include_colab_link": true
    },
    "kernelspec": {
      "name": "python3",
      "display_name": "Python 3"
    }
  },
  "cells": [
    {
      "cell_type": "markdown",
      "metadata": {
        "id": "view-in-github",
        "colab_type": "text"
      },
      "source": [
        "<a href=\"https://colab.research.google.com/github/ultrasmartary/MLCollege/blob/master/MLCollege_Day4.ipynb\" target=\"_parent\"><img src=\"https://colab.research.google.com/assets/colab-badge.svg\" alt=\"Open In Colab\"/></a>"
      ]
    },
    {
      "cell_type": "code",
      "metadata": {
        "id": "3o7lsoyzDh0d",
        "colab_type": "code",
        "colab": {
          "base_uri": "https://localhost:8080/",
          "height": 425
        },
        "outputId": "b9a59df7-7ad9-4052-8746-fc906ffe270f"
      },
      "source": [
        "import numpy as np\n",
        "import pandas as pd\n",
        "df=pd.DataFrame({'a':[10,11,222,11,15],\n",
        "                 'b':[10,20,30,30,40],\n",
        "                 'c':[25,35,45,9,8]})\n",
        "print(df)\n",
        "print(df.shape)\n",
        "print(df.dtypes)\n",
        "print(df.columns)\n",
        "print(df.head(2))\n",
        "print(df.tail(2))\n",
        "ind=['r1','r2','r3','r4','r5']\n",
        "df.index=ind\n",
        "print(df)\n"
      ],
      "execution_count": 1,
      "outputs": [
        {
          "output_type": "stream",
          "text": [
            "     a   b   c\n",
            "0   10  10  25\n",
            "1   11  20  35\n",
            "2  222  30  45\n",
            "3   11  30   9\n",
            "4   15  40   8\n",
            "(5, 3)\n",
            "a    int64\n",
            "b    int64\n",
            "c    int64\n",
            "dtype: object\n",
            "Index(['a', 'b', 'c'], dtype='object')\n",
            "    a   b   c\n",
            "0  10  10  25\n",
            "1  11  20  35\n",
            "    a   b  c\n",
            "3  11  30  9\n",
            "4  15  40  8\n",
            "      a   b   c\n",
            "r1   10  10  25\n",
            "r2   11  20  35\n",
            "r3  222  30  45\n",
            "r4   11  30   9\n",
            "r5   15  40   8\n"
          ],
          "name": "stdout"
        }
      ]
    },
    {
      "cell_type": "code",
      "metadata": {
        "id": "b9bYeo89J-bV",
        "colab_type": "code",
        "colab": {
          "base_uri": "https://localhost:8080/",
          "height": 425
        },
        "outputId": "05897249-677a-4c97-b33d-fd93693d6fc7"
      },
      "source": [
        "#loc\n",
        "#iloc\n",
        "#describe\n",
        "\n",
        "print(df.loc[['r2','r4'],['a','c']])\n",
        "print(df)\n",
        "print('\\n')\n",
        "print(df.iloc[[0,2,4],[0,1]])\n",
        "print(df.describe())"
      ],
      "execution_count": 2,
      "outputs": [
        {
          "output_type": "stream",
          "text": [
            "     a   c\n",
            "r2  11  35\n",
            "r4  11   9\n",
            "      a   b   c\n",
            "r1   10  10  25\n",
            "r2   11  20  35\n",
            "r3  222  30  45\n",
            "r4   11  30   9\n",
            "r5   15  40   8\n",
            "\n",
            "\n",
            "      a   b\n",
            "r1   10  10\n",
            "r3  222  30\n",
            "r5   15  40\n",
            "                a          b          c\n",
            "count    5.000000   5.000000   5.000000\n",
            "mean    53.800000  26.000000  24.400000\n",
            "std     94.046265  11.401754  16.149303\n",
            "min     10.000000  10.000000   8.000000\n",
            "25%     11.000000  20.000000   9.000000\n",
            "50%     11.000000  30.000000  25.000000\n",
            "75%     15.000000  30.000000  35.000000\n",
            "max    222.000000  40.000000  45.000000\n"
          ],
          "name": "stdout"
        }
      ]
    },
    {
      "cell_type": "code",
      "metadata": {
        "id": "puVwQCwcKDFF",
        "colab_type": "code",
        "colab": {
          "base_uri": "https://localhost:8080/",
          "height": 445
        },
        "outputId": "adf57733-605f-4c9b-e1ac-16cece37427e"
      },
      "source": [
        "ipl=pd.read_csv('/content/drive/My Drive/Colab_Dataset/matches.csv')\n",
        "ipl.head()"
      ],
      "execution_count": 3,
      "outputs": [
        {
          "output_type": "execute_result",
          "data": {
            "text/html": [
              "<div>\n",
              "<style scoped>\n",
              "    .dataframe tbody tr th:only-of-type {\n",
              "        vertical-align: middle;\n",
              "    }\n",
              "\n",
              "    .dataframe tbody tr th {\n",
              "        vertical-align: top;\n",
              "    }\n",
              "\n",
              "    .dataframe thead th {\n",
              "        text-align: right;\n",
              "    }\n",
              "</style>\n",
              "<table border=\"1\" class=\"dataframe\">\n",
              "  <thead>\n",
              "    <tr style=\"text-align: right;\">\n",
              "      <th></th>\n",
              "      <th>id</th>\n",
              "      <th>season</th>\n",
              "      <th>city</th>\n",
              "      <th>date</th>\n",
              "      <th>team1</th>\n",
              "      <th>team2</th>\n",
              "      <th>toss_winner</th>\n",
              "      <th>toss_decision</th>\n",
              "      <th>result</th>\n",
              "      <th>dl_applied</th>\n",
              "      <th>winner</th>\n",
              "      <th>win_by_runs</th>\n",
              "      <th>win_by_wickets</th>\n",
              "      <th>player_of_match</th>\n",
              "      <th>venue</th>\n",
              "      <th>umpire1</th>\n",
              "      <th>umpire2</th>\n",
              "      <th>umpire3</th>\n",
              "    </tr>\n",
              "  </thead>\n",
              "  <tbody>\n",
              "    <tr>\n",
              "      <th>0</th>\n",
              "      <td>1</td>\n",
              "      <td>2017</td>\n",
              "      <td>Hyderabad</td>\n",
              "      <td>2017-04-05</td>\n",
              "      <td>Sunrisers Hyderabad</td>\n",
              "      <td>Royal Challengers Bangalore</td>\n",
              "      <td>Royal Challengers Bangalore</td>\n",
              "      <td>field</td>\n",
              "      <td>normal</td>\n",
              "      <td>0</td>\n",
              "      <td>Sunrisers Hyderabad</td>\n",
              "      <td>35</td>\n",
              "      <td>0</td>\n",
              "      <td>Yuvraj Singh</td>\n",
              "      <td>Rajiv Gandhi International Stadium, Uppal</td>\n",
              "      <td>AY Dandekar</td>\n",
              "      <td>NJ Llong</td>\n",
              "      <td>NaN</td>\n",
              "    </tr>\n",
              "    <tr>\n",
              "      <th>1</th>\n",
              "      <td>2</td>\n",
              "      <td>2017</td>\n",
              "      <td>Pune</td>\n",
              "      <td>2017-04-06</td>\n",
              "      <td>Mumbai Indians</td>\n",
              "      <td>Rising Pune Supergiant</td>\n",
              "      <td>Rising Pune Supergiant</td>\n",
              "      <td>field</td>\n",
              "      <td>normal</td>\n",
              "      <td>0</td>\n",
              "      <td>Rising Pune Supergiant</td>\n",
              "      <td>0</td>\n",
              "      <td>7</td>\n",
              "      <td>SPD Smith</td>\n",
              "      <td>Maharashtra Cricket Association Stadium</td>\n",
              "      <td>A Nand Kishore</td>\n",
              "      <td>S Ravi</td>\n",
              "      <td>NaN</td>\n",
              "    </tr>\n",
              "    <tr>\n",
              "      <th>2</th>\n",
              "      <td>3</td>\n",
              "      <td>2017</td>\n",
              "      <td>Rajkot</td>\n",
              "      <td>2017-04-07</td>\n",
              "      <td>Gujarat Lions</td>\n",
              "      <td>Kolkata Knight Riders</td>\n",
              "      <td>Kolkata Knight Riders</td>\n",
              "      <td>field</td>\n",
              "      <td>normal</td>\n",
              "      <td>0</td>\n",
              "      <td>Kolkata Knight Riders</td>\n",
              "      <td>0</td>\n",
              "      <td>10</td>\n",
              "      <td>CA Lynn</td>\n",
              "      <td>Saurashtra Cricket Association Stadium</td>\n",
              "      <td>Nitin Menon</td>\n",
              "      <td>CK Nandan</td>\n",
              "      <td>NaN</td>\n",
              "    </tr>\n",
              "    <tr>\n",
              "      <th>3</th>\n",
              "      <td>4</td>\n",
              "      <td>2017</td>\n",
              "      <td>Indore</td>\n",
              "      <td>2017-04-08</td>\n",
              "      <td>Rising Pune Supergiant</td>\n",
              "      <td>Kings XI Punjab</td>\n",
              "      <td>Kings XI Punjab</td>\n",
              "      <td>field</td>\n",
              "      <td>normal</td>\n",
              "      <td>0</td>\n",
              "      <td>Kings XI Punjab</td>\n",
              "      <td>0</td>\n",
              "      <td>6</td>\n",
              "      <td>GJ Maxwell</td>\n",
              "      <td>Holkar Cricket Stadium</td>\n",
              "      <td>AK Chaudhary</td>\n",
              "      <td>C Shamshuddin</td>\n",
              "      <td>NaN</td>\n",
              "    </tr>\n",
              "    <tr>\n",
              "      <th>4</th>\n",
              "      <td>5</td>\n",
              "      <td>2017</td>\n",
              "      <td>Bangalore</td>\n",
              "      <td>2017-04-08</td>\n",
              "      <td>Royal Challengers Bangalore</td>\n",
              "      <td>Delhi Daredevils</td>\n",
              "      <td>Royal Challengers Bangalore</td>\n",
              "      <td>bat</td>\n",
              "      <td>normal</td>\n",
              "      <td>0</td>\n",
              "      <td>Royal Challengers Bangalore</td>\n",
              "      <td>15</td>\n",
              "      <td>0</td>\n",
              "      <td>KM Jadhav</td>\n",
              "      <td>M Chinnaswamy Stadium</td>\n",
              "      <td>NaN</td>\n",
              "      <td>NaN</td>\n",
              "      <td>NaN</td>\n",
              "    </tr>\n",
              "  </tbody>\n",
              "</table>\n",
              "</div>"
            ],
            "text/plain": [
              "   id  season       city  ...         umpire1        umpire2 umpire3\n",
              "0   1    2017  Hyderabad  ...     AY Dandekar       NJ Llong     NaN\n",
              "1   2    2017       Pune  ...  A Nand Kishore         S Ravi     NaN\n",
              "2   3    2017     Rajkot  ...     Nitin Menon      CK Nandan     NaN\n",
              "3   4    2017     Indore  ...    AK Chaudhary  C Shamshuddin     NaN\n",
              "4   5    2017  Bangalore  ...             NaN            NaN     NaN\n",
              "\n",
              "[5 rows x 18 columns]"
            ]
          },
          "metadata": {
            "tags": []
          },
          "execution_count": 3
        }
      ]
    },
    {
      "cell_type": "code",
      "metadata": {
        "id": "Rsp-j2WWKS3S",
        "colab_type": "code",
        "colab": {}
      },
      "source": [
        "# IPL Dataset Questions"
      ],
      "execution_count": 4,
      "outputs": []
    },
    {
      "cell_type": "code",
      "metadata": {
        "id": "A2_U9CwRKTcX",
        "colab_type": "code",
        "colab": {}
      },
      "source": [
        "# unique(),value_counts(),len(),sum(),idxmax(),idxmin(),min(),max(),&,|\n",
        "#1)Find total number of matches held\n",
        "#2)Find total number of Seasons Held\n",
        "#3)Identify the team winning by maximum runs(mention team name and runs made)\n",
        "#4) Identify the team winning by maximum Wickets(mention team name, win_by_runs and win_by_wickets)\n",
        "#5) Identify the team winning by minimum no. of Wickets(mention team name, win_by_runs and win_by_wickets)\n",
        "#6)% of team winning if they won the toss and decided to bat first\n",
        "#7)% of team winning if they won the toss\n",
        "#8)Most Successful team\n",
        "#9)Season having maximum number of matches\n",
        "#10)List teams winning by 10 wickets\n",
        "#11)Total No. of teams winning by 10 wickets\n"
      ],
      "execution_count": 5,
      "outputs": []
    },
    {
      "cell_type": "code",
      "metadata": {
        "id": "JaEhjC3rKZZh",
        "colab_type": "code",
        "colab": {
          "base_uri": "https://localhost:8080/",
          "height": 68
        },
        "outputId": "d644fdda-ec6c-4450-8103-eb09d744c6d9"
      },
      "source": [
        "#1)Find total number of matches held\n",
        "print('total matches held:',len(ipl))\n",
        "print('\\ntotal matches held using max:',ipl['id'].max())\n"
      ],
      "execution_count": 6,
      "outputs": [
        {
          "output_type": "stream",
          "text": [
            "total matches held: 636\n",
            "\n",
            "total matches held using max: 636\n"
          ],
          "name": "stdout"
        }
      ]
    },
    {
      "cell_type": "code",
      "metadata": {
        "id": "7U6VXMUhKpr8",
        "colab_type": "code",
        "colab": {
          "base_uri": "https://localhost:8080/",
          "height": 136
        },
        "outputId": "cd132736-84f8-4eb4-d389-c6218b893070"
      },
      "source": [
        "#2)Find total number of Seasons Held\n",
        "print(ipl.columns)\n",
        "print('List of Seasons held',ipl['season'].unique())\n",
        "print('Total no of seasons held',len(ipl['season'].unique()))"
      ],
      "execution_count": 7,
      "outputs": [
        {
          "output_type": "stream",
          "text": [
            "Index(['id', 'season', 'city', 'date', 'team1', 'team2', 'toss_winner',\n",
            "       'toss_decision', 'result', 'dl_applied', 'winner', 'win_by_runs',\n",
            "       'win_by_wickets', 'player_of_match', 'venue', 'umpire1', 'umpire2',\n",
            "       'umpire3'],\n",
            "      dtype='object')\n",
            "List of Seasons held [2017 2008 2009 2010 2011 2012 2013 2014 2015 2016]\n",
            "Total no of seasons held 10\n"
          ],
          "name": "stdout"
        }
      ]
    },
    {
      "cell_type": "code",
      "metadata": {
        "id": "hU4F8tq9KtsH",
        "colab_type": "code",
        "colab": {
          "base_uri": "https://localhost:8080/",
          "height": 68
        },
        "outputId": "6ef5945b-b4d7-4747-9526-8c3b93f2b8cb"
      },
      "source": [
        "#3)Identify the team winning by maximum runs(mention team name and runs made)\n",
        "best=ipl['win_by_runs'].idxmax()\n",
        "ipl.iloc[best,[10,11]]\n"
      ],
      "execution_count": 8,
      "outputs": [
        {
          "output_type": "execute_result",
          "data": {
            "text/plain": [
              "winner         Mumbai Indians\n",
              "win_by_runs               146\n",
              "Name: 43, dtype: object"
            ]
          },
          "metadata": {
            "tags": []
          },
          "execution_count": 8
        }
      ]
    },
    {
      "cell_type": "code",
      "metadata": {
        "id": "z92FIslZKw7z",
        "colab_type": "code",
        "colab": {
          "base_uri": "https://localhost:8080/",
          "height": 85
        },
        "outputId": "f9832057-9668-4aae-f49a-4009232d85ab"
      },
      "source": [
        "#4) Identify the team winning by maximum Wickets(mention team name, win_by_runs and win_by_wickets)\n",
        "max_wickets=ipl['win_by_wickets'].idxmax()\n",
        "ipl.loc[max_wickets,['winner','win_by_runs','win_by_wickets']]"
      ],
      "execution_count": 9,
      "outputs": [
        {
          "output_type": "execute_result",
          "data": {
            "text/plain": [
              "winner            Kolkata Knight Riders\n",
              "win_by_runs                           0\n",
              "win_by_wickets                       10\n",
              "Name: 2, dtype: object"
            ]
          },
          "metadata": {
            "tags": []
          },
          "execution_count": 9
        }
      ]
    },
    {
      "cell_type": "code",
      "metadata": {
        "id": "Im2SMIHQK3oq",
        "colab_type": "code",
        "colab": {
          "base_uri": "https://localhost:8080/",
          "height": 85
        },
        "outputId": "55166124-aaaa-4494-cfce-3b5c796cef79"
      },
      "source": [
        "#5) Identify the team winning by minimum no. of Wickets(mention team name, win_by_runs and win_by_wickets)\n",
        "min_wickets=ipl['win_by_wickets'].idxmin()\n",
        "print(ipl.loc[min_wickets,['winner','win_by_runs','win_by_wickets']])"
      ],
      "execution_count": 10,
      "outputs": [
        {
          "output_type": "stream",
          "text": [
            "winner            Sunrisers Hyderabad\n",
            "win_by_runs                        35\n",
            "win_by_wickets                      0\n",
            "Name: 0, dtype: object\n"
          ],
          "name": "stdout"
        }
      ]
    },
    {
      "cell_type": "code",
      "metadata": {
        "id": "CfqmXxp0K79w",
        "colab_type": "code",
        "colab": {
          "base_uri": "https://localhost:8080/",
          "height": 34
        },
        "outputId": "896f3ff5-8954-4c7f-be1d-a7c4657c9d49"
      },
      "source": [
        "#6)% of team winning if they won the toss and decided to bat first\n",
        "ipl_bat=ipl[(ipl['toss_winner']==ipl['winner']) & (ipl['toss_decision']=='bat')]\n",
        "(len(ipl_bat)/len(ipl))*100"
      ],
      "execution_count": 11,
      "outputs": [
        {
          "output_type": "execute_result",
          "data": {
            "text/plain": [
              "19.49685534591195"
            ]
          },
          "metadata": {
            "tags": []
          },
          "execution_count": 11
        }
      ]
    },
    {
      "cell_type": "code",
      "metadata": {
        "id": "-G79oYcMK__i",
        "colab_type": "code",
        "colab": {
          "base_uri": "https://localhost:8080/",
          "height": 34
        },
        "outputId": "966958f1-f833-4a67-9a6c-c9f9ec0041b2"
      },
      "source": [
        "#7)% of team winning if they won the toss\n",
        "ipl.columns\n",
        "(len(ipl[(ipl['toss_winner']==ipl['winner'])])/len(ipl))*100"
      ],
      "execution_count": 12,
      "outputs": [
        {
          "output_type": "execute_result",
          "data": {
            "text/plain": [
              "51.100628930817614"
            ]
          },
          "metadata": {
            "tags": []
          },
          "execution_count": 12
        }
      ]
    },
    {
      "cell_type": "code",
      "metadata": {
        "id": "7SXnOu1iLEd_",
        "colab_type": "code",
        "colab": {
          "base_uri": "https://localhost:8080/",
          "height": 290
        },
        "outputId": "d1324014-3a99-495f-829b-057fc3a6bf60"
      },
      "source": [
        "#8)Most Successful team\n",
        "best_team=ipl['winner'].value_counts()\n",
        "print(best_team)\n",
        "best_team.idxmax()"
      ],
      "execution_count": 13,
      "outputs": [
        {
          "output_type": "stream",
          "text": [
            "Mumbai Indians                 92\n",
            "Chennai Super Kings            79\n",
            "Kolkata Knight Riders          77\n",
            "Royal Challengers Bangalore    73\n",
            "Kings XI Punjab                70\n",
            "Rajasthan Royals               63\n",
            "Delhi Daredevils               62\n",
            "Sunrisers Hyderabad            42\n",
            "Deccan Chargers                29\n",
            "Gujarat Lions                  13\n",
            "Pune Warriors                  12\n",
            "Rising Pune Supergiant         10\n",
            "Kochi Tuskers Kerala            6\n",
            "Rising Pune Supergiants         5\n",
            "Name: winner, dtype: int64\n"
          ],
          "name": "stdout"
        },
        {
          "output_type": "execute_result",
          "data": {
            "application/vnd.google.colaboratory.intrinsic": {
              "type": "string"
            },
            "text/plain": [
              "'Mumbai Indians'"
            ]
          },
          "metadata": {
            "tags": []
          },
          "execution_count": 13
        }
      ]
    },
    {
      "cell_type": "code",
      "metadata": {
        "id": "z4M4yKd9M3vZ",
        "colab_type": "code",
        "colab": {
          "base_uri": "https://localhost:8080/",
          "height": 306
        },
        "outputId": "d086399f-d0b6-4a1c-ffaa-be9752d0ff6b"
      },
      "source": [
        "#9)Season having maximum number of matches\n",
        "print(ipl.columns)\n",
        "df=ipl['season'].value_counts()\n",
        "print(df)\n",
        "df.idxmax()"
      ],
      "execution_count": 14,
      "outputs": [
        {
          "output_type": "stream",
          "text": [
            "Index(['id', 'season', 'city', 'date', 'team1', 'team2', 'toss_winner',\n",
            "       'toss_decision', 'result', 'dl_applied', 'winner', 'win_by_runs',\n",
            "       'win_by_wickets', 'player_of_match', 'venue', 'umpire1', 'umpire2',\n",
            "       'umpire3'],\n",
            "      dtype='object')\n",
            "2013    76\n",
            "2012    74\n",
            "2011    73\n",
            "2016    60\n",
            "2014    60\n",
            "2010    60\n",
            "2017    59\n",
            "2015    59\n",
            "2008    58\n",
            "2009    57\n",
            "Name: season, dtype: int64\n"
          ],
          "name": "stdout"
        },
        {
          "output_type": "execute_result",
          "data": {
            "text/plain": [
              "2013"
            ]
          },
          "metadata": {
            "tags": []
          },
          "execution_count": 14
        }
      ]
    },
    {
      "cell_type": "code",
      "metadata": {
        "id": "vqZGk_cwM7G7",
        "colab_type": "code",
        "colab": {
          "base_uri": "https://localhost:8080/",
          "height": 238
        },
        "outputId": "af108fc4-5bb6-4300-9154-80b59fe1813b"
      },
      "source": [
        "#10)List teams winning by 10 wickets\n",
        "l=ipl[(ipl['win_by_wickets']==10)].reset_index()\n",
        "print(l)"
      ],
      "execution_count": 15,
      "outputs": [
        {
          "output_type": "stream",
          "text": [
            "   index   id  season  ...          umpire1          umpire2 umpire3\n",
            "0      2    3    2017  ...      Nitin Menon        CK Nandan     NaN\n",
            "1     34   35    2017  ...         YC Barde        CK Nandan     NaN\n",
            "2     71   72    2008  ...        Asad Rauf       SL Shastri     NaN\n",
            "3    119  120    2009  ...        MR Benson        SD Ranade     NaN\n",
            "4    183  184    2010  ...      K Hariharan        DJ Harper     NaN\n",
            "5    298  299    2011  ...      RE Koertzen       PR Reiffel     NaN\n",
            "6    376  377    2012  ...  HDPK Dharmasena    C Shamshuddin     NaN\n",
            "7    390  391    2013  ...        Aleem Dar    C Shamshuddin     NaN\n",
            "8    542  543    2015  ...        M Erasmus           S Ravi     NaN\n",
            "9    590  591    2016  ...       K Bharatan  HDPK Dharmasena     NaN\n",
            "\n",
            "[10 rows x 19 columns]\n"
          ],
          "name": "stdout"
        }
      ]
    },
    {
      "cell_type": "code",
      "metadata": {
        "id": "lDBOrz6ANJP3",
        "colab_type": "code",
        "colab": {
          "base_uri": "https://localhost:8080/",
          "height": 34
        },
        "outputId": "557c74ae-8211-4c77-d34f-22e6607d43bc"
      },
      "source": [
        "#11)Total No. of teams winning by 10 wickets\n",
        "print(len(l))\n"
      ],
      "execution_count": 16,
      "outputs": [
        {
          "output_type": "stream",
          "text": [
            "10\n"
          ],
          "name": "stdout"
        }
      ]
    }
  ]
}