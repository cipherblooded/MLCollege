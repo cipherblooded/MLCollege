{
  "nbformat": 4,
  "nbformat_minor": 0,
  "metadata": {
    "colab": {
      "name": "Activation_Function_with _NUMPY.ipynb",
      "provenance": [],
      "collapsed_sections": [],
      "include_colab_link": true
    },
    "kernelspec": {
      "name": "python3",
      "display_name": "Python 3"
    }
  },
  "cells": [
    {
      "cell_type": "markdown",
      "metadata": {
        "id": "view-in-github",
        "colab_type": "text"
      },
      "source": [
        "<a href=\"https://colab.research.google.com/github/ultraSmartAry/MLCollege/blob/master/Activation_Function_with__NUMPY.ipynb\" target=\"_parent\"><img src=\"https://colab.research.google.com/assets/colab-badge.svg\" alt=\"Open In Colab\"/></a>"
      ]
    },
    {
      "cell_type": "code",
      "metadata": {
        "id": "yDV4e9zo7Gu0",
        "colab_type": "code",
        "colab": {}
      },
      "source": [
        "#with vectorization\n",
        "import numpy as np #always remember to import numpy\n",
        "import time\n",
        "t0 = time.process_time()\n",
        "#array1\n",
        "tmatrix1 = [1,2,3,4,5]\n",
        "#array2\n",
        "tmatrix2 = [6,7,8,9,10]\n",
        "#dot matrix\n",
        "Y=np.dot(tmatrix1,tmatrix2)\n",
        "t1 = time.process_time()\n",
        "print (\"dot operation = \" + str(Y) + \"\\n Computation time = \" + str(1000*(t1 - t0)) + \"ms\")\n"
      ],
      "execution_count": null,
      "outputs": []
    },
    {
      "cell_type": "code",
      "metadata": {
        "id": "rfhRw11076Z-",
        "colab_type": "code",
        "colab": {}
      },
      "source": [
        "#without vectorization\n",
        "t0 = time.process_time()\n",
        "dot = 0\n",
        "for i in range(len(tmatrix1)):\n",
        "  %time dot+= tmatrix1[i]*tmatrix2[i]\n",
        "t1 = time.process_time()\n",
        "print (\"dot operation = \" + str(dot) + \"\\n Computation time = \" + str(1000*(t1 - t0)) + \"ms\")\n"
      ],
      "execution_count": null,
      "outputs": []
    },
    {
      "cell_type": "code",
      "metadata": {
        "id": "cUpThYx38QXp",
        "colab_type": "code",
        "colab": {}
      },
      "source": [
        "import numpy as np\n",
        "#create a 1-d array of 1,2,3\n",
        "mvector = np.array([1,2,3])\n",
        "print(mvector)\n",
        "\n",
        "#create a 2x3 matrix/2-d arraY\n",
        "\n",
        "mmatrix= np.array([[1,2,3],[4,5,6]])\n",
        "\n",
        "print(mmatrix)"
      ],
      "execution_count": null,
      "outputs": []
    },
    {
      "cell_type": "code",
      "metadata": {
        "id": "o3FiyI7R8gPY",
        "colab_type": "code",
        "colab": {}
      },
      "source": [
        "#print array type\n",
        "print(type(mmatrix))"
      ],
      "execution_count": null,
      "outputs": []
    },
    {
      "cell_type": "code",
      "metadata": {
        "id": "KazT-mOl8mfq",
        "colab_type": "code",
        "colab": {}
      },
      "source": [
        "#print array type\n",
        "print(mmatrix.shape)"
      ],
      "execution_count": null,
      "outputs": []
    },
    {
      "cell_type": "code",
      "metadata": {
        "id": "BPAFrfe--WSn",
        "colab_type": "code",
        "colab": {}
      },
      "source": [
        "#print array size\n",
        "print(mmatrix.size)"
      ],
      "execution_count": null,
      "outputs": []
    },
    {
      "cell_type": "code",
      "metadata": {
        "id": "_m7HlCGZ-aPo",
        "colab_type": "code",
        "colab": {}
      },
      "source": [
        "#print smallest number in a matrix\n",
        "print(mmatrix.min())"
      ],
      "execution_count": null,
      "outputs": []
    },
    {
      "cell_type": "code",
      "metadata": {
        "id": "8AsmbJuw-enh",
        "colab_type": "code",
        "colab": {}
      },
      "source": [
        "#print biggest number\n",
        "print(mmatrix.max())"
      ],
      "execution_count": null,
      "outputs": []
    },
    {
      "cell_type": "markdown",
      "metadata": {
        "id": "tICw3oI1-oU0",
        "colab_type": "text"
      },
      "source": [
        "Common Mathematical **operations**"
      ]
    },
    {
      "cell_type": "code",
      "metadata": {
        "id": "Bs2lSOde-lW2",
        "colab_type": "code",
        "colab": {}
      },
      "source": [
        "#Adding\n",
        "\n",
        "#array1\n",
        "mmatrix1 = np.array([[1,2,3],[4,5,6]])\n",
        "#array2\n",
        "mmatrix2 = np.array([[6,7,8],[8,9,10]])\n",
        "#add matrices\n",
        "addmatrix = np.add(mmatrix1,mmatrix2)\n",
        "print('Addition of matrix\\n', addmatrix)"
      ],
      "execution_count": null,
      "outputs": []
    },
    {
      "cell_type": "code",
      "metadata": {
        "id": "nSCdM53o_eKW",
        "colab_type": "code",
        "colab": {}
      },
      "source": [
        "#subtract matrices\n",
        "submatrix = np.subtract(mmatrix1,mmatrix2)\n",
        "print('substraction of matrix \\n', submatrix)"
      ],
      "execution_count": null,
      "outputs": []
    },
    {
      "cell_type": "code",
      "metadata": {
        "id": "b87lJeP3HqdC",
        "colab_type": "code",
        "colab": {}
      },
      "source": [
        "matrix= np.array([[1,2,3],[4,5,6]])"
      ],
      "execution_count": null,
      "outputs": []
    },
    {
      "cell_type": "code",
      "metadata": {
        "id": "RLT_w8SdHgru",
        "colab_type": "code",
        "colab": {}
      },
      "source": [
        "#Finding the exponential of a matrix\n",
        "mexp = np.exp(matrix)\n",
        "print(mexp)"
      ],
      "execution_count": null,
      "outputs": []
    },
    {
      "cell_type": "markdown",
      "metadata": {
        "id": "gz7xjn2zI5aw",
        "colab_type": "text"
      },
      "source": [
        "Common Statistical operations"
      ]
    },
    {
      "cell_type": "code",
      "metadata": {
        "id": "ohtQ34ZQI7Y-",
        "colab_type": "code",
        "colab": {}
      },
      "source": [
        "#print variance of a matrix\n",
        "print(np.var(matrix))"
      ],
      "execution_count": null,
      "outputs": []
    },
    {
      "cell_type": "code",
      "metadata": {
        "id": "DElGHis-KAld",
        "colab_type": "code",
        "colab": {}
      },
      "source": [
        "#print mean of a matrix\n",
        "print(np.mean(matrix))"
      ],
      "execution_count": null,
      "outputs": []
    },
    {
      "cell_type": "code",
      "metadata": {
        "id": "7aw-j9PYKFcR",
        "colab_type": "code",
        "colab": {}
      },
      "source": [
        "#print standard deviation of a matrix\n",
        "print(np.std(mmatrix))\n"
      ],
      "execution_count": null,
      "outputs": []
    },
    {
      "cell_type": "markdown",
      "metadata": {
        "id": "3mbHxlfkKLU2",
        "colab_type": "text"
      },
      "source": [
        "Reshaping Arrays"
      ]
    },
    {
      "cell_type": "code",
      "metadata": {
        "id": "EOYGhjXXKMsq",
        "colab_type": "code",
        "colab": {}
      },
      "source": [
        "#Reshape mmatrix from a 2x3 array  to a 3x2 array\n",
        "rematrix = matrix.reshape(3,2)\n",
        "print(rematrix.shape)"
      ],
      "execution_count": null,
      "outputs": []
    },
    {
      "cell_type": "code",
      "metadata": {
        "id": "GV-mdCJGKXr5",
        "colab_type": "code",
        "colab": {}
      },
      "source": [
        "#flatten mmatrix to 1-d array\n",
        "flmatrix = matrix.flatten()\n",
        "print(flmatrix)"
      ],
      "execution_count": null,
      "outputs": []
    },
    {
      "cell_type": "markdown",
      "metadata": {
        "id": "Kfb0Ga-1QmaL",
        "colab_type": "text"
      },
      "source": [
        "Index Location"
      ]
    },
    {
      "cell_type": "code",
      "metadata": {
        "id": "UXZnL7eROrzs",
        "colab_type": "code",
        "colab": {}
      },
      "source": [
        "index_location = np.where(matrix == 1) \n",
        "index_location"
      ],
      "execution_count": null,
      "outputs": []
    },
    {
      "cell_type": "markdown",
      "metadata": {
        "id": "OopXdgrz8t0H",
        "colab_type": "text"
      },
      "source": [
        "# **dot Product**"
      ]
    },
    {
      "cell_type": "code",
      "metadata": {
        "id": "G7Tr0bOJ8szf",
        "colab_type": "code",
        "colab": {
          "base_uri": "https://localhost:8080/",
          "height": 185
        },
        "outputId": "856e06a6-55fd-40e9-c277-9dcced5ceeff"
      },
      "source": [
        "#Calculating dot products\n",
        "#array1\n",
        "dmatrix1 = np.array([[1,2,3],[4,5,6]])\n",
        "#array2\n",
        "dmatrix2 = np.array([[6,7,8],[8,9,10],[9,10,11]])\n",
        "\n",
        "print('array1 \\n', dmatrix1)\n",
        "print('array2 \\n', dmatrix2)\n",
        "\n",
        "#dot matrix\n",
        "dotmatrix = np.dot(dmatrix1,dmatrix2)\n",
        "\n",
        "print('dotmatrix \\n', dotmatrix)"
      ],
      "execution_count": null,
      "outputs": [
        {
          "output_type": "stream",
          "text": [
            "array1 \n",
            " [[1 2 3]\n",
            " [4 5 6]]\n",
            "array2 \n",
            " [[ 6  7  8]\n",
            " [ 8  9 10]\n",
            " [ 9 10 11]]\n",
            "dotmatrix \n",
            " [[ 49  55  61]\n",
            " [118 133 148]]\n"
          ],
          "name": "stdout"
        }
      ]
    },
    {
      "cell_type": "markdown",
      "metadata": {
        "id": "wsGFaXLgx1_m",
        "colab_type": "text"
      },
      "source": [
        "# **Activation Function**"
      ]
    },
    {
      "cell_type": "code",
      "metadata": {
        "id": "EMddPMfvvPSo",
        "colab_type": "code",
        "colab": {}
      },
      "source": [
        "import numpy as np\n",
        "import matplotlib.pyplot as plt "
      ],
      "execution_count": null,
      "outputs": []
    },
    {
      "cell_type": "code",
      "metadata": {
        "id": "bBoZvN7huQmW",
        "colab_type": "code",
        "colab": {}
      },
      "source": [
        "input=np.array([-10,-9,-8,-7,-6,-5,-4,-3,-2,-1,0,1,2,3,4,5,6,7,8,9,10])\n",
        "input"
      ],
      "execution_count": null,
      "outputs": []
    },
    {
      "cell_type": "markdown",
      "metadata": {
        "id": "rYRNoDuw4fZe",
        "colab_type": "text"
      },
      "source": [
        "# **Sigmoid activation function**"
      ]
    },
    {
      "cell_type": "code",
      "metadata": {
        "id": "v-R12bvFyurR",
        "colab_type": "code",
        "colab": {}
      },
      "source": [
        "#sigmoid function\n",
        "def sigmoid(X):\n",
        "\n",
        "   return 1/(1+np.exp(-X))"
      ],
      "execution_count": null,
      "outputs": []
    },
    {
      "cell_type": "code",
      "metadata": {
        "id": "73f_W0Wbvy4R",
        "colab_type": "code",
        "colab": {}
      },
      "source": [
        "output=sigmoid(input)\n",
        "print(output)"
      ],
      "execution_count": null,
      "outputs": []
    },
    {
      "cell_type": "code",
      "metadata": {
        "id": "5rghPmmvxRdg",
        "colab_type": "code",
        "colab": {}
      },
      "source": [
        "plt.plot(input,output,marker='o') \n",
        "plt.title(\"Sigmoid\") \n",
        "plt.xlabel(\"X\") \n",
        "plt.ylabel(\"Y\") \n",
        "plt.show() "
      ],
      "execution_count": null,
      "outputs": []
    },
    {
      "cell_type": "markdown",
      "metadata": {
        "id": "CAnaUowmy3P5",
        "colab_type": "text"
      },
      "source": [
        "# **Relu**"
      ]
    },
    {
      "cell_type": "code",
      "metadata": {
        "id": "m8l3URYoy1nB",
        "colab_type": "code",
        "colab": {}
      },
      "source": [
        "#ReLu function\n",
        "def relu(X):\n",
        "   return np.maximum(0,X)"
      ],
      "execution_count": null,
      "outputs": []
    },
    {
      "cell_type": "code",
      "metadata": {
        "id": "g4E_8lNnz6pp",
        "colab_type": "code",
        "colab": {}
      },
      "source": [
        "output_rel=relu(input)\n",
        "output_rel"
      ],
      "execution_count": null,
      "outputs": []
    },
    {
      "cell_type": "code",
      "metadata": {
        "id": "qQbHoVnA0UW-",
        "colab_type": "code",
        "colab": {}
      },
      "source": [
        "plt.plot(input,output_rel,marker='o') \n",
        "plt.title(\"Relu\") \n",
        "plt.xlabel(\"X\") \n",
        "plt.ylabel(\"Y\") \n",
        "plt.show() "
      ],
      "execution_count": null,
      "outputs": []
    },
    {
      "cell_type": "markdown",
      "metadata": {
        "id": "IDA-Aask0qVr",
        "colab_type": "text"
      },
      "source": [
        "# **Softmax Activation function**\n",
        "\n",
        "Softmax function calculates the probabilities distribution of the event over ‘n’ different events. In general way of saying, this function will calculate the probabilities of each target class over all possible target classes.\n",
        "\n",
        "![image.png](data:image/png;base64,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)"
      ]
    },
    {
      "cell_type": "code",
      "metadata": {
        "id": "CUmZw2mp0z9P",
        "colab_type": "code",
        "colab": {}
      },
      "source": [
        "#softmax function\n",
        "def softmax(X):\n",
        "    expo = np.exp(X)\n",
        "    expo_sum = np.sum(np.exp(X))\n",
        "    return expo/expo_sum"
      ],
      "execution_count": null,
      "outputs": []
    },
    {
      "cell_type": "code",
      "metadata": {
        "id": "8RejJymr02HD",
        "colab_type": "code",
        "colab": {}
      },
      "source": [
        "output_soft=softmax(input)\n",
        "output_soft"
      ],
      "execution_count": null,
      "outputs": []
    },
    {
      "cell_type": "code",
      "metadata": {
        "id": "n2DLmNEn3TsD",
        "colab_type": "code",
        "colab": {
          "base_uri": "https://localhost:8080/",
          "height": 295
        },
        "outputId": "741234b9-9d7a-4fd7-a692-d055d264b7e0"
      },
      "source": [
        "plt.plot(input,output_soft,marker='o') \n",
        "plt.title(\"Softmax\") \n",
        "plt.xlabel(\"X\") \n",
        "plt.ylabel(\"Y\") \n",
        "plt.show() "
      ],
      "execution_count": null,
      "outputs": [
        {
          "output_type": "display_data",
          "data": {
            "image/png": "[encoded data removed]",
            "text/plain": [
              "<Figure size 432x288 with 1 Axes>"
            ]
          },
          "metadata": {
            "tags": [],
            "needs_background": "light"
          }
        }
      ]
    },
    {
      "cell_type": "markdown",
      "metadata": {
        "id": "a_sQlmmH49mt",
        "colab_type": "text"
      },
      "source": [
        "# **Tanh Activation function**\n",
        "\n",
        "Tanh squashes a real-valued number to the range [-1, 1]. "
      ]
    },
    {
      "cell_type": "code",
      "metadata": {
        "id": "HB8JZRrM5COp",
        "colab_type": "code",
        "colab": {}
      },
      "source": [
        "def tanh(z):\n",
        "\treturn (np.exp(z) - np.exp(-z)) / (np.exp(z) + np.exp(-z))\n"
      ],
      "execution_count": null,
      "outputs": []
    },
    {
      "cell_type": "code",
      "metadata": {
        "id": "LKsgjHyO9Zki",
        "colab_type": "code",
        "colab": {
          "base_uri": "https://localhost:8080/",
          "height": 101
        },
        "outputId": "4a9884a7-4819-449a-b81d-f0aad6abee1f"
      },
      "source": [
        "out_tanh=tanh(input)\n",
        "out_tanh"
      ],
      "execution_count": null,
      "outputs": [
        {
          "output_type": "execute_result",
          "data": {
            "text/plain": [
              "array([-1.        , -0.99999997, -0.99999977, -0.99999834, -0.99998771,\n",
              "       -0.9999092 , -0.9993293 , -0.99505475, -0.96402758, -0.76159416,\n",
              "        0.        ,  0.76159416,  0.96402758,  0.99505475,  0.9993293 ,\n",
              "        0.9999092 ,  0.99998771,  0.99999834,  0.99999977,  0.99999997,\n",
              "        1.        ])"
            ]
          },
          "metadata": {
            "tags": []
          },
          "execution_count": 19
        }
      ]
    },
    {
      "cell_type": "code",
      "metadata": {
        "id": "EBiPUmcw9n7Y",
        "colab_type": "code",
        "colab": {
          "base_uri": "https://localhost:8080/",
          "height": 295
        },
        "outputId": "598f2037-6f2c-471a-8453-aa6dc5c9cddd"
      },
      "source": [
        "plt.plot(input,out_tanh,marker='o') \n",
        "plt.title(\"Tanh\") \n",
        "plt.xlabel(\"X\") \n",
        "plt.ylabel(\"Y\") \n",
        "plt.show() "
      ],
      "execution_count": null,
      "outputs": [
        {
          "output_type": "display_data",
          "data": {
            "image/png": "[encoded data removed]",
            "text/plain": [
              "<Figure size 432x288 with 1 Axes>"
            ]
          },
          "metadata": {
            "tags": [],
            "needs_background": "light"
          }
        }
      ]
    }
  ]
}