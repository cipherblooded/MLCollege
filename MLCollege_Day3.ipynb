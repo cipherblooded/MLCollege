{
  "nbformat": 4,
  "nbformat_minor": 0,
  "metadata": {
    "colab": {
      "name": "MLCollege_Day3.ipynb",
      "provenance": [],
      "authorship_tag": "ABX9TyNfK08ZQe7yjyi9rMPDEEMr",
      "include_colab_link": true
    },
    "kernelspec": {
      "name": "python3",
      "display_name": "Python 3"
    }
  },
  "cells": [
    {
      "cell_type": "markdown",
      "metadata": {
        "id": "view-in-github",
        "colab_type": "text"
      },
      "source": [
        "<a href=\"https://colab.research.google.com/github/ultrasmartary/MLCollege/blob/master/MLCollege_Day3.ipynb\" target=\"_parent\"><img src=\"https://colab.research.google.com/assets/colab-badge.svg\" alt=\"Open In Colab\"/></a>"
      ]
    },
    {
      "cell_type": "code",
      "metadata": {
        "id": "bFJU85DkpTOi",
        "colab_type": "code",
        "colab": {
          "base_uri": "https://localhost:8080/",
          "height": 935
        },
        "outputId": "d21cb8b5-1612-44a7-9f0a-17a348cda306"
      },
      "source": [
        "# Arithmatic Operations\n",
        "\n",
        "import numpy as np\n",
        "a=np.ones((3,3))\n",
        "print(a)\n",
        "b=np.arange(5,14)\n",
        "print(b)\n",
        "print('\\n dimensions of b',b.ndim)\n",
        "b.shape=(3,3)\n",
        "print(b)\n",
        "\n",
        "print('\\n a+b:\\n',a+b)\n",
        "print('\\n a add b \\n',np.add(a,b))\n",
        "\n",
        "print('\\n a-b:\\n',a-b)\n",
        "print('\\n a substract b \\n',np.subtract(a,b))\n",
        "\n",
        "print('\\n a matrix multiply b \\n',np.dot(a,b))\n",
        "\n",
        "print('\\n a multiply b \\n',a*b)\n",
        "print('\\n a multiply b \\n',np.multiply(a,b))\n",
        "\n",
        "print('\\n a divide b \\n',a/b)\n",
        "print('\\n a divide b \\n',np.divide(a,b))"
      ],
      "execution_count": 45,
      "outputs": [
        {
          "output_type": "stream",
          "text": [
            "[[1. 1. 1.]\n",
            " [1. 1. 1.]\n",
            " [1. 1. 1.]]\n",
            "[ 5  6  7  8  9 10 11 12 13]\n",
            "\n",
            " dimensions of b 1\n",
            "[[ 5  6  7]\n",
            " [ 8  9 10]\n",
            " [11 12 13]]\n",
            "\n",
            " a+b:\n",
            " [[ 6.  7.  8.]\n",
            " [ 9. 10. 11.]\n",
            " [12. 13. 14.]]\n",
            "\n",
            " a add b \n",
            " [[ 6.  7.  8.]\n",
            " [ 9. 10. 11.]\n",
            " [12. 13. 14.]]\n",
            "\n",
            " a-b:\n",
            " [[ -4.  -5.  -6.]\n",
            " [ -7.  -8.  -9.]\n",
            " [-10. -11. -12.]]\n",
            "\n",
            " a substract b \n",
            " [[ -4.  -5.  -6.]\n",
            " [ -7.  -8.  -9.]\n",
            " [-10. -11. -12.]]\n",
            "\n",
            " a matrix multiply b \n",
            " [[24. 27. 30.]\n",
            " [24. 27. 30.]\n",
            " [24. 27. 30.]]\n",
            "\n",
            " a multiply b \n",
            " [[ 5.  6.  7.]\n",
            " [ 8.  9. 10.]\n",
            " [11. 12. 13.]]\n",
            "\n",
            " a multiply b \n",
            " [[ 5.  6.  7.]\n",
            " [ 8.  9. 10.]\n",
            " [11. 12. 13.]]\n",
            "\n",
            " a divide b \n",
            " [[0.2        0.16666667 0.14285714]\n",
            " [0.125      0.11111111 0.1       ]\n",
            " [0.09090909 0.08333333 0.07692308]]\n",
            "\n",
            " a divide b \n",
            " [[0.2        0.16666667 0.14285714]\n",
            " [0.125      0.11111111 0.1       ]\n",
            " [0.09090909 0.08333333 0.07692308]]\n"
          ],
          "name": "stdout"
        }
      ]
    },
    {
      "cell_type": "code",
      "metadata": {
        "id": "u3Y4-qgssTXj",
        "colab_type": "code",
        "colab": {
          "base_uri": "https://localhost:8080/",
          "height": 289
        },
        "outputId": "758bf69d-5e1c-4f63-e7a6-d2c710547ca3"
      },
      "source": [
        "# i*j*k (3*2*4)\n",
        "\n",
        "a=np.ones((2,3))\n",
        "print(a.shape)\n",
        "print('\\n a: \\n',a)\n",
        "\n",
        "b=np.arange(0,2)\n",
        "print(b.shape)\n",
        "print('\\n b: \\n',b)\n",
        "\n",
        "b=b[:, np.newaxis]\n",
        "print(b.shape)\n",
        "print('\\n b: \\n',b)\n",
        "\n",
        "print(a+b)"
      ],
      "execution_count": 46,
      "outputs": [
        {
          "output_type": "stream",
          "text": [
            "(2, 3)\n",
            "\n",
            " a: \n",
            " [[1. 1. 1.]\n",
            " [1. 1. 1.]]\n",
            "(2,)\n",
            "\n",
            " b: \n",
            " [0 1]\n",
            "(2, 1)\n",
            "\n",
            " b: \n",
            " [[0]\n",
            " [1]]\n",
            "[[1. 1. 1.]\n",
            " [2. 2. 2.]]\n"
          ],
          "name": "stdout"
        }
      ]
    },
    {
      "cell_type": "code",
      "metadata": {
        "id": "6gSWGuMGv0mw",
        "colab_type": "code",
        "colab": {
          "base_uri": "https://localhost:8080/",
          "height": 221
        },
        "outputId": "18fe12fd-1988-4af7-ce2a-63ec58353c06"
      },
      "source": [
        "#Transpose\n",
        "\n",
        "a=np.arange(0,9)\n",
        "a.shape=(3,3)\n",
        "print('\\n',a)\n",
        "print('\\n',np.transpose(a,axes=(0,1)))\n",
        "print('\\n',np.transpose(a,axes=(1,0)))"
      ],
      "execution_count": 47,
      "outputs": [
        {
          "output_type": "stream",
          "text": [
            "\n",
            " [[0 1 2]\n",
            " [3 4 5]\n",
            " [6 7 8]]\n",
            "\n",
            " [[0 1 2]\n",
            " [3 4 5]\n",
            " [6 7 8]]\n",
            "\n",
            " [[0 3 6]\n",
            " [1 4 7]\n",
            " [2 5 8]]\n"
          ],
          "name": "stdout"
        }
      ]
    },
    {
      "cell_type": "code",
      "metadata": {
        "id": "73uVVylG0XfT",
        "colab_type": "code",
        "colab": {
          "base_uri": "https://localhost:8080/",
          "height": 527
        },
        "outputId": "14b72e9d-1fc6-43bc-83ca-93d434468033"
      },
      "source": [
        "#Combining two arrays\n",
        "\n",
        "a=np.array([[1,2],[3,4]])\n",
        "b=np.array([5,6])\n",
        "c=np.array([[5],[6]])\n",
        "\n",
        "print('\\n a: \\n',a)\n",
        "print('\\n b: \\n',b)\n",
        "print('\\n c: \\n',c)\n",
        "\n",
        "print('\\n vstack \\n',np.vstack((a,b)))\n",
        "print('\\n hstack \\n',np.hstack((a,c)))\n",
        "\n",
        "a = np.array([[1,2],[3,4]])\n",
        "b = np.array([[5,6],[7,8]]) \n",
        "print('\\n concatenate \\n',np.concatenate((a,b)))\n",
        "print('\\n concatenate \\n',np.concatenate((a,b),axis = 1))"
      ],
      "execution_count": 48,
      "outputs": [
        {
          "output_type": "stream",
          "text": [
            "\n",
            " a: \n",
            " [[1 2]\n",
            " [3 4]]\n",
            "\n",
            " b: \n",
            " [5 6]\n",
            "\n",
            " c: \n",
            " [[5]\n",
            " [6]]\n",
            "\n",
            " vstack \n",
            " [[1 2]\n",
            " [3 4]\n",
            " [5 6]]\n",
            "\n",
            " hstack \n",
            " [[1 2 5]\n",
            " [3 4 6]]\n",
            "\n",
            " concatenate \n",
            " [[1 2]\n",
            " [3 4]\n",
            " [5 6]\n",
            " [7 8]]\n",
            "\n",
            " concatenate \n",
            " [[1 2 5 6]\n",
            " [3 4 7 8]]\n"
          ],
          "name": "stdout"
        }
      ]
    },
    {
      "cell_type": "code",
      "metadata": {
        "id": "PDO37iCM8HX3",
        "colab_type": "code",
        "colab": {
          "base_uri": "https://localhost:8080/",
          "height": 187
        },
        "outputId": "71cd2076-6f1d-4244-a55f-407dcd62fb7d"
      },
      "source": [
        "#Splitting an array\n",
        "\n",
        "a=np.arange(0,9)\n",
        "a.shape=(3,3)\n",
        "print(a)\n",
        "print(np.split(a,3,axis=1))\n"
      ],
      "execution_count": 49,
      "outputs": [
        {
          "output_type": "stream",
          "text": [
            "[[0 1 2]\n",
            " [3 4 5]\n",
            " [6 7 8]]\n",
            "[array([[0],\n",
            "       [3],\n",
            "       [6]]), array([[1],\n",
            "       [4],\n",
            "       [7]]), array([[2],\n",
            "       [5],\n",
            "       [8]])]\n"
          ],
          "name": "stdout"
        }
      ]
    },
    {
      "cell_type": "code",
      "metadata": {
        "id": "DZBu_Zqd81iJ",
        "colab_type": "code",
        "colab": {
          "base_uri": "https://localhost:8080/",
          "height": 102
        },
        "outputId": "1a2df723-af12-4991-d368-ce4443a1e809"
      },
      "source": [
        "# Inserting an element in an array\n",
        "\n",
        "a=np.arange(0,9)\n",
        "print(a)\n",
        "np.insert(a,3,-99)\n",
        "a.shape=(3,3)\n",
        "print(a)\n",
        "print(np.insert(a,1,-5))"
      ],
      "execution_count": 50,
      "outputs": [
        {
          "output_type": "stream",
          "text": [
            "[0 1 2 3 4 5 6 7 8]\n",
            "[[0 1 2]\n",
            " [3 4 5]\n",
            " [6 7 8]]\n",
            "[ 0 -5  1  2  3  4  5  6  7  8]\n"
          ],
          "name": "stdout"
        }
      ]
    },
    {
      "cell_type": "code",
      "metadata": {
        "id": "ctL3Lrk_9HaI",
        "colab_type": "code",
        "colab": {
          "base_uri": "https://localhost:8080/",
          "height": 136
        },
        "outputId": "a4c9c273-ab3f-4d72-e888-8258272d78ac"
      },
      "source": [
        "# Linear Algebra(linalg)\n",
        "\n",
        "a=np.arange(1,5)\n",
        "a.shape=(2,2)\n",
        "print(a)\n",
        "print(np.linalg.inv(a))\n",
        "print(np.linalg.matrix_power(a,3))\n",
        "print(np.linalg.det(a))"
      ],
      "execution_count": 51,
      "outputs": [
        {
          "output_type": "stream",
          "text": [
            "[[1 2]\n",
            " [3 4]]\n",
            "[[-2.   1. ]\n",
            " [ 1.5 -0.5]]\n",
            "[[ 37  54]\n",
            " [ 81 118]]\n",
            "-2.0000000000000004\n"
          ],
          "name": "stdout"
        }
      ]
    },
    {
      "cell_type": "code",
      "metadata": {
        "id": "e-DA0R289Sju",
        "colab_type": "code",
        "colab": {
          "base_uri": "https://localhost:8080/",
          "height": 85
        },
        "outputId": "f61fd9ac-081a-457a-b4d3-c02b7d3057c5"
      },
      "source": [
        "#Solving Algebric expressions\n",
        "\n",
        "# 3x+y=9\n",
        "# x+2y=8\n",
        "\n",
        "a=np.array([[3,1],[1,2]])\n",
        "print(a)\n",
        "b=np.array([9,8])\n",
        "print(b)\n",
        "np.linalg.solve(a,b)\n",
        "\n",
        "# 6x+2y-5z=13\n",
        "#3x+3y-2z=13\n",
        "#7x+5y-3z=26\n",
        "a=np.array([[6,2,-5],[3,3,-2],[7,5,-3]])\n",
        "b=np.array([13,13,26])\n",
        "np.linalg.solve(a,b)\n"
      ],
      "execution_count": 52,
      "outputs": [
        {
          "output_type": "stream",
          "text": [
            "[[3 1]\n",
            " [1 2]]\n",
            "[9 8]\n"
          ],
          "name": "stdout"
        },
        {
          "output_type": "execute_result",
          "data": {
            "text/plain": [
              "array([2., 3., 1.])"
            ]
          },
          "metadata": {
            "tags": []
          },
          "execution_count": 52
        }
      ]
    },
    {
      "cell_type": "code",
      "metadata": {
        "id": "f8jZuRkQ9abA",
        "colab_type": "code",
        "colab": {
          "base_uri": "https://localhost:8080/",
          "height": 187
        },
        "outputId": "18a0bd12-98f4-4e9e-9694-65806aecb22f"
      },
      "source": [
        "a=np.arange(0,9)\n",
        "a.shape=(3,3)\n",
        "print(a)\n",
        "print(np.max(a))\n",
        "print(np.min(a))\n",
        "print(np.argmax(a))\n",
        "print(np.argmin(a))\n",
        "print(np.mean(a))\n",
        "print(np.sum(a))\n",
        "print(np.std(a))"
      ],
      "execution_count": 53,
      "outputs": [
        {
          "output_type": "stream",
          "text": [
            "[[0 1 2]\n",
            " [3 4 5]\n",
            " [6 7 8]]\n",
            "8\n",
            "0\n",
            "8\n",
            "0\n",
            "4.0\n",
            "36\n",
            "2.581988897471611\n"
          ],
          "name": "stdout"
        }
      ]
    },
    {
      "cell_type": "code",
      "metadata": {
        "id": "4CHUeynf_Gz7",
        "colab_type": "code",
        "colab": {
          "base_uri": "https://localhost:8080/",
          "height": 408
        },
        "outputId": "80a04c63-caa2-42c9-d832-1d3ee71e4532"
      },
      "source": [
        "a = np.arange(0,27)\n",
        "b = np.arange(0,27)\n",
        "a.shape=(3,3,3)\n",
        "b.shape=(3,3,3)\n",
        "print(np.vstack((a,b)))"
      ],
      "execution_count": 54,
      "outputs": [
        {
          "output_type": "stream",
          "text": [
            "[[[ 0  1  2]\n",
            "  [ 3  4  5]\n",
            "  [ 6  7  8]]\n",
            "\n",
            " [[ 9 10 11]\n",
            "  [12 13 14]\n",
            "  [15 16 17]]\n",
            "\n",
            " [[18 19 20]\n",
            "  [21 22 23]\n",
            "  [24 25 26]]\n",
            "\n",
            " [[ 0  1  2]\n",
            "  [ 3  4  5]\n",
            "  [ 6  7  8]]\n",
            "\n",
            " [[ 9 10 11]\n",
            "  [12 13 14]\n",
            "  [15 16 17]]\n",
            "\n",
            " [[18 19 20]\n",
            "  [21 22 23]\n",
            "  [24 25 26]]]\n"
          ],
          "name": "stdout"
        }
      ]
    }
  ]
}