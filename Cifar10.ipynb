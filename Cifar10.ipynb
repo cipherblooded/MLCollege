{
  "nbformat": 4,
  "nbformat_minor": 0,
  "metadata": {
    "colab": {
      "name": "Cifar10.ipynb",
      "provenance": [],
      "collapsed_sections": [],
      "include_colab_link": true
    },
    "kernelspec": {
      "name": "python3",
      "display_name": "Python 3"
    }
  },
  "cells": [
    {
      "cell_type": "markdown",
      "metadata": {
        "id": "view-in-github",
        "colab_type": "text"
      },
      "source": [
        "<a href=\"https://colab.research.google.com/github/ultraSmartAry/MLCollege/blob/master/Cifar10.ipynb\" target=\"_parent\"><img src=\"https://colab.research.google.com/assets/colab-badge.svg\" alt=\"Open In Colab\"/></a>"
      ]
    },
    {
      "cell_type": "code",
      "metadata": {
        "id": "fRbp5BpiQDJl",
        "colab_type": "code",
        "colab": {}
      },
      "source": [
        "#Import the libraries.\n",
        "import tensorflow as tf\n",
        "from tensorflow import keras\n",
        "from keras.models import Sequential\n",
        "from keras.layers import Dense, Flatten, Conv2D, MaxPooling2D, Dropout\n",
        "from tensorflow.keras import layers\n",
        "from keras.utils import to_categorical\n",
        "import numpy as np\n",
        "import matplotlib.pyplot as plt\n",
        "#plt.style.use('fivethirtyeight')"
      ],
      "execution_count": null,
      "outputs": []
    },
    {
      "cell_type": "code",
      "metadata": {
        "id": "4lyml4DRQXKo",
        "colab_type": "code",
        "colab": {}
      },
      "source": [
        "#Load the data where X is dataset and Y is lable\n",
        "from keras.datasets import cifar10\n",
        "(x_train, y_train), (x_test, y_test) = cifar10.load_data()"
      ],
      "execution_count": null,
      "outputs": []
    },
    {
      "cell_type": "markdown",
      "metadata": {
        "id": "SbxYXQW9QrG9",
        "colab_type": "text"
      },
      "source": [
        "Explore The Data\n",
        "\n",
        "Print the data type of the loaded data sets. This will let us know what type of data we are working with."
      ]
    },
    {
      "cell_type": "code",
      "metadata": {
        "id": "Ag4LsTfFQuFY",
        "colab_type": "code",
        "colab": {
          "base_uri": "https://localhost:8080/",
          "height": 84
        },
        "outputId": "c79a3a82-cea5-47e1-8eb1-2c3c2a3daaa5"
      },
      "source": [
        "#Print the data type of x_train\n",
        "print(type(x_train))\n",
        "#Print the data type of y_train\n",
        "print(type(y_train))\n",
        "#Print the data type of x_test\n",
        "print(type(x_test))\n",
        "#Print the data type of y_test\n",
        "print(type(y_test))"
      ],
      "execution_count": null,
      "outputs": [
        {
          "output_type": "stream",
          "text": [
            "<class 'numpy.ndarray'>\n",
            "<class 'numpy.ndarray'>\n",
            "<class 'numpy.ndarray'>\n",
            "<class 'numpy.ndarray'>\n"
          ],
          "name": "stdout"
        }
      ]
    },
    {
      "cell_type": "markdown",
      "metadata": {
        "id": "8C19a0W8RD6-",
        "colab_type": "text"
      },
      "source": [
        "**Get the shape of the x_train , y_train , x_test and y_test data***You will notice that the shape of the x_train data set is a 4-Dimensional array with 50,000 rows of 32 x 32 pixel image with depth = 3 (RGB) where R is Red, G is Green, and B is Blue. \n",
        "\n",
        "The y_train data shape is a 2-Dimensional array with 50,000 rows and 1 column.\n",
        "\n",
        " The shape of the x_test data set is a 4-Dimensional array with 10,000 rows of 32 x 32 pixel image with depth = 3 (RGB). \n",
        " \n",
        " The y_test data shape is a 2-Dimensional array with 10,000 rows and 1 column.\n"
      ]
    },
    {
      "cell_type": "code",
      "metadata": {
        "id": "U773P0CwQ2If",
        "colab_type": "code",
        "colab": {
          "base_uri": "https://localhost:8080/",
          "height": 84
        },
        "outputId": "091b76a5-f24f-4eee-c6f1-ac1b73d65773"
      },
      "source": [
        "#Get the shape of x_train\n",
        "print('x_train shape:', x_train.shape)\n",
        "#Get the shape of y_train\n",
        "print('y_train shape:', y_train.shape)\n",
        "#Get the shape of x_train\n",
        "print('x_test shape:', x_test.shape)\n",
        "#Get the shape of y_train\n",
        "print('y_test shape:', y_test.shape)"
      ],
      "execution_count": null,
      "outputs": [
        {
          "output_type": "stream",
          "text": [
            "x_train shape: (50000, 32, 32, 3)\n",
            "y_train shape: (50000, 1)\n",
            "x_test shape: (10000, 32, 32, 3)\n",
            "y_test shape: (10000, 1)\n"
          ],
          "name": "stdout"
        }
      ]
    },
    {
      "cell_type": "markdown",
      "metadata": {
        "id": "fa0Tav9pRvfX",
        "colab_type": "text"
      },
      "source": [
        "**Take a look at the first image (at index=0) in the training data set as a numpy array**This shows the image as a series of pixel values."
      ]
    },
    {
      "cell_type": "code",
      "metadata": {
        "id": "XprkMYUVR4Kz",
        "colab_type": "code",
        "colab": {
          "base_uri": "https://localhost:8080/",
          "height": 840
        },
        "outputId": "5dd05686-6b75-43ed-b281-123329c47016"
      },
      "source": [
        "index = 0\n",
        "x_train[index]"
      ],
      "execution_count": null,
      "outputs": [
        {
          "output_type": "execute_result",
          "data": {
            "text/plain": [
              "array([[[ 59,  62,  63],\n",
              "        [ 43,  46,  45],\n",
              "        [ 50,  48,  43],\n",
              "        ...,\n",
              "        [158, 132, 108],\n",
              "        [152, 125, 102],\n",
              "        [148, 124, 103]],\n",
              "\n",
              "       [[ 16,  20,  20],\n",
              "        [  0,   0,   0],\n",
              "        [ 18,   8,   0],\n",
              "        ...,\n",
              "        [123,  88,  55],\n",
              "        [119,  83,  50],\n",
              "        [122,  87,  57]],\n",
              "\n",
              "       [[ 25,  24,  21],\n",
              "        [ 16,   7,   0],\n",
              "        [ 49,  27,   8],\n",
              "        ...,\n",
              "        [118,  84,  50],\n",
              "        [120,  84,  50],\n",
              "        [109,  73,  42]],\n",
              "\n",
              "       ...,\n",
              "\n",
              "       [[208, 170,  96],\n",
              "        [201, 153,  34],\n",
              "        [198, 161,  26],\n",
              "        ...,\n",
              "        [160, 133,  70],\n",
              "        [ 56,  31,   7],\n",
              "        [ 53,  34,  20]],\n",
              "\n",
              "       [[180, 139,  96],\n",
              "        [173, 123,  42],\n",
              "        [186, 144,  30],\n",
              "        ...,\n",
              "        [184, 148,  94],\n",
              "        [ 97,  62,  34],\n",
              "        [ 83,  53,  34]],\n",
              "\n",
              "       [[177, 144, 116],\n",
              "        [168, 129,  94],\n",
              "        [179, 142,  87],\n",
              "        ...,\n",
              "        [216, 184, 140],\n",
              "        [151, 118,  84],\n",
              "        [123,  92,  72]]], dtype=uint8)"
            ]
          },
          "metadata": {
            "tags": []
          },
          "execution_count": 66
        }
      ]
    },
    {
      "cell_type": "markdown",
      "metadata": {
        "id": "RhtiGxI5SM2A",
        "colab_type": "text"
      },
      "source": [
        "**Show the image as an image** instead of a series of pixel values using matplotlib."
      ]
    },
    {
      "cell_type": "code",
      "metadata": {
        "id": "VksiEKHZSQlb",
        "colab_type": "code",
        "colab": {
          "base_uri": "https://localhost:8080/",
          "height": 284
        },
        "outputId": "45ed9e2e-7681-4709-ccd0-de90bdf892a7"
      },
      "source": [
        "img = plt.imshow(x_train[index])"
      ],
      "execution_count": null,
      "outputs": [
        {
          "output_type": "display_data",
          "data": {
            "image/png": "[encoded data removed]",
            "text/plain": [
              "<Figure size 432x288 with 1 Axes>"
            ]
          },
          "metadata": {
            "tags": []
          }
        }
      ]
    },
    {
      "cell_type": "markdown",
      "metadata": {
        "id": "zKLHjUabSwMp",
        "colab_type": "text"
      },
      "source": [
        "**Print the label of the image**. Notice the label printed was the number 6 this corresponds to the frog label."
      ]
    },
    {
      "cell_type": "code",
      "metadata": {
        "id": "69vXngb5S0jq",
        "colab_type": "code",
        "colab": {
          "base_uri": "https://localhost:8080/",
          "height": 34
        },
        "outputId": "b54e0b40-771e-4453-934e-5b64bc60c0bb"
      },
      "source": [
        "print('The image label is: ', y_train[index])\n"
      ],
      "execution_count": null,
      "outputs": [
        {
          "output_type": "stream",
          "text": [
            "The image label is:  [6]\n"
          ],
          "name": "stdout"
        }
      ]
    },
    {
      "cell_type": "markdown",
      "metadata": {
        "id": "5e3AeTIBWwLg",
        "colab_type": "text"
      },
      "source": [
        "**Show the label classification** in relation to the number.\n"
      ]
    },
    {
      "cell_type": "code",
      "metadata": {
        "id": "7SMCanQgX16O",
        "colab_type": "code",
        "colab": {
          "base_uri": "https://localhost:8080/",
          "height": 34
        },
        "outputId": "aad48928-e93e-4aa2-a3d5-08c8c41ac4d8"
      },
      "source": [
        "classification = ['airplane', 'automobile', 'bird', 'cat', 'deer', 'dog', 'frog', 'horse', 'ship', 'truck']\n",
        "#Print the image class\n",
        "print('The image class is: ', classification[y_train[index][0]])"
      ],
      "execution_count": null,
      "outputs": [
        {
          "output_type": "stream",
          "text": [
            "The image class is:  frog\n"
          ],
          "name": "stdout"
        }
      ]
    },
    {
      "cell_type": "markdown",
      "metadata": {
        "id": "Qw9G0o2WZZnU",
        "colab_type": "text"
      },
      "source": [
        "**Use One-Hot Encoding to convert the labels into a set of 10 numbers to input into the neural network.** The numbers ofcourse corresponds with the number of labels to classify the images."
      ]
    },
    {
      "cell_type": "code",
      "metadata": {
        "id": "bsjdtnPTAAv2",
        "colab_type": "code",
        "colab": {
          "base_uri": "https://localhost:8080/",
          "height": 134
        },
        "outputId": "de6acc92-99c4-4325-dd49-4fdf2b5ce986"
      },
      "source": [
        "y_train"
      ],
      "execution_count": null,
      "outputs": [
        {
          "output_type": "execute_result",
          "data": {
            "text/plain": [
              "array([[6],\n",
              "       [9],\n",
              "       [9],\n",
              "       ...,\n",
              "       [9],\n",
              "       [1],\n",
              "       [1]], dtype=uint8)"
            ]
          },
          "metadata": {
            "tags": []
          },
          "execution_count": 70
        }
      ]
    },
    {
      "cell_type": "code",
      "metadata": {
        "id": "vcTlJnkoZf3Q",
        "colab_type": "code",
        "colab": {}
      },
      "source": [
        "y_train_one_hot = to_categorical(y_train)\n",
        "y_test_one_hot = to_categorical(y_test)"
      ],
      "execution_count": null,
      "outputs": []
    },
    {
      "cell_type": "markdown",
      "metadata": {
        "id": "k7fMuHeYZsym",
        "colab_type": "text"
      },
      "source": [
        "Print all of the new labels in the training data set."
      ]
    },
    {
      "cell_type": "code",
      "metadata": {
        "id": "9yzYCrHiZvPM",
        "colab_type": "code",
        "colab": {
          "base_uri": "https://localhost:8080/",
          "height": 134
        },
        "outputId": "daacd73f-81b0-413a-b927-875972b7eb3f"
      },
      "source": [
        "print(y_train_one_hot)"
      ],
      "execution_count": null,
      "outputs": [
        {
          "output_type": "stream",
          "text": [
            "[[0. 0. 0. ... 0. 0. 0.]\n",
            " [0. 0. 0. ... 0. 0. 1.]\n",
            " [0. 0. 0. ... 0. 0. 1.]\n",
            " ...\n",
            " [0. 0. 0. ... 0. 0. 1.]\n",
            " [0. 1. 0. ... 0. 0. 0.]\n",
            " [0. 1. 0. ... 0. 0. 0.]]\n"
          ],
          "name": "stdout"
        }
      ]
    },
    {
      "cell_type": "markdown",
      "metadata": {
        "id": "8cPQCQnoaHEY",
        "colab_type": "text"
      },
      "source": [
        "Print an example of the new labels using the first image in the training data set."
      ]
    },
    {
      "cell_type": "code",
      "metadata": {
        "id": "EhEjRD08aKE1",
        "colab_type": "code",
        "colab": {
          "base_uri": "https://localhost:8080/",
          "height": 34
        },
        "outputId": "5c6035bd-262f-4f19-f8f4-f6d8435d0102"
      },
      "source": [
        "print('The one hot label is:', y_train_one_hot[0])"
      ],
      "execution_count": null,
      "outputs": [
        {
          "output_type": "stream",
          "text": [
            "The one hot label is: [0. 0. 0. 0. 0. 0. 1. 0. 0. 0.]\n"
          ],
          "name": "stdout"
        }
      ]
    },
    {
      "cell_type": "markdown",
      "metadata": {
        "id": "3HCUC2EMb7uG",
        "colab_type": "text"
      },
      "source": [
        "Print all of the new labels in the training data set."
      ]
    },
    {
      "cell_type": "code",
      "metadata": {
        "id": "36ds5N_ecAB6",
        "colab_type": "code",
        "colab": {
          "base_uri": "https://localhost:8080/",
          "height": 134
        },
        "outputId": "80a35204-691d-4b41-8a21-708d34f87d7c"
      },
      "source": [
        "print(y_train_one_hot)"
      ],
      "execution_count": null,
      "outputs": [
        {
          "output_type": "stream",
          "text": [
            "[[0. 0. 0. ... 0. 0. 0.]\n",
            " [0. 0. 0. ... 0. 0. 1.]\n",
            " [0. 0. 0. ... 0. 0. 1.]\n",
            " ...\n",
            " [0. 0. 0. ... 0. 0. 1.]\n",
            " [0. 1. 0. ... 0. 0. 0.]\n",
            " [0. 1. 0. ... 0. 0. 0.]]\n"
          ],
          "name": "stdout"
        }
      ]
    },
    {
      "cell_type": "markdown",
      "metadata": {
        "id": "snGPCmCPcLWM",
        "colab_type": "text"
      },
      "source": [
        "**Normalize the pixels in the images to be a value between 0 and 1 ,** they are normally values between 0 and 255, doing this will help the neural network."
      ]
    },
    {
      "cell_type": "code",
      "metadata": {
        "id": "4_nMhVEScSF_",
        "colab_type": "code",
        "colab": {}
      },
      "source": [
        "x_train = x_train / 255\n",
        "x_test = x_test / 255"
      ],
      "execution_count": null,
      "outputs": []
    },
    {
      "cell_type": "markdown",
      "metadata": {
        "id": "H1-SL2oVcZkI",
        "colab_type": "text"
      },
      "source": [
        "**Build The Convolution Neural Network Model**\n",
        "To build the model we need to create the architecture using Sequential() ."
      ]
    },
    {
      "cell_type": "code",
      "metadata": {
        "id": "Osq7oyG0cd42",
        "colab_type": "code",
        "colab": {}
      },
      "source": [
        "model = Sequential()"
      ],
      "execution_count": null,
      "outputs": []
    },
    {
      "cell_type": "markdown",
      "metadata": {
        "id": "pOt3ZiqOcnbS",
        "colab_type": "text"
      },
      "source": [
        "Next we add the first layer, a convolution layer to extract features from the input image, The first required Conv2D parameter is the number of filters that the convolutional layer will learn.\n",
        " \n",
        "Since this is the first layer we must input the dimension shape which is a 32 x 32 pixel image with depth = 3 (RGB)."
      ]
    },
    {
      "cell_type": "code",
      "metadata": {
        "id": "QH2wvDiRcwiV",
        "colab_type": "code",
        "colab": {}
      },
      "source": [
        "model.add(Conv2D(32, (5, 5), activation='relu', input_shape=(32,32,3)))"
      ],
      "execution_count": null,
      "outputs": []
    },
    {
      "cell_type": "markdown",
      "metadata": {
        "id": "59h-pBJac6Lw",
        "colab_type": "text"
      },
      "source": [
        "The next layer will be a pooling layer with a 2 x 2 pixel filter to get the max element from the feature maps. This reduces the dimension of the feature maps by half and is also known as sub sampling."
      ]
    },
    {
      "cell_type": "code",
      "metadata": {
        "id": "qgF5w4Evc7zD",
        "colab_type": "code",
        "colab": {}
      },
      "source": [
        "model.add(MaxPooling2D(pool_size=(2, 2)))"
      ],
      "execution_count": null,
      "outputs": []
    },
    {
      "cell_type": "markdown",
      "metadata": {
        "id": "LXj7b-0GdFBj",
        "colab_type": "text"
      },
      "source": [
        "Create one more convolution layer and pooling layer like before, but without the input_shape."
      ]
    },
    {
      "cell_type": "code",
      "metadata": {
        "id": "MUn_N9DFdGuo",
        "colab_type": "code",
        "colab": {}
      },
      "source": [
        "model.add(Conv2D(64, (5, 5), activation='relu'))\n",
        "model.add(MaxPooling2D(pool_size=(2, 2)))"
      ],
      "execution_count": null,
      "outputs": []
    },
    {
      "cell_type": "markdown",
      "metadata": {
        "id": "z_XEuKxFdQs2",
        "colab_type": "text"
      },
      "source": [
        "Add a flattening layer, to reduce the image to a linear array also known as a one 1-Dimension vector to feed into and connect with the neural network."
      ]
    },
    {
      "cell_type": "code",
      "metadata": {
        "id": "W_pnSRvedSlF",
        "colab_type": "code",
        "colab": {}
      },
      "source": [
        "model.add(Flatten())"
      ],
      "execution_count": null,
      "outputs": []
    },
    {
      "cell_type": "markdown",
      "metadata": {
        "id": "nxvTHegbdeSR",
        "colab_type": "text"
      },
      "source": [
        "**Now create a neural network where the first layer has 1000 neurons and the activation function ReLu.**"
      ]
    },
    {
      "cell_type": "code",
      "metadata": {
        "id": "bjPxLhm8dlgy",
        "colab_type": "code",
        "colab": {}
      },
      "source": [
        "model.add(Dense(1000, activation='relu'))"
      ],
      "execution_count": null,
      "outputs": []
    },
    {
      "cell_type": "markdown",
      "metadata": {
        "id": "0Kx88NO4drAo",
        "colab_type": "text"
      },
      "source": [
        "Add a drop out layer with 50% drop out. Dropout is a technique used to prevent a model from overfitting.and improve your model Accuracy."
      ]
    },
    {
      "cell_type": "code",
      "metadata": {
        "id": "XimmprBqdsrf",
        "colab_type": "code",
        "colab": {}
      },
      "source": [
        "model.add(Dropout(0.5))"
      ],
      "execution_count": null,
      "outputs": []
    },
    {
      "cell_type": "markdown",
      "metadata": {
        "id": "XzmhlRf4d3aa",
        "colab_type": "text"
      },
      "source": [
        "**Now create second layer has 500 neurons and the activation function ReLu.**"
      ]
    },
    {
      "cell_type": "code",
      "metadata": {
        "id": "d_ruqteTd-MQ",
        "colab_type": "code",
        "colab": {}
      },
      "source": [
        "model.add(Dense(500, activation='relu'))"
      ],
      "execution_count": null,
      "outputs": []
    },
    {
      "cell_type": "markdown",
      "metadata": {
        "id": "skG6sQwBeYV-",
        "colab_type": "text"
      },
      "source": [
        "Add a drop out layer with 50% drop out."
      ]
    },
    {
      "cell_type": "code",
      "metadata": {
        "id": "6Ke5XgPhecIT",
        "colab_type": "code",
        "colab": {}
      },
      "source": [
        "model.add(Dropout(0.5))"
      ],
      "execution_count": null,
      "outputs": []
    },
    {
      "cell_type": "markdown",
      "metadata": {
        "id": "YcFCRO95emG8",
        "colab_type": "text"
      },
      "source": [
        "**Now create third layer has 250 neurons and the activation function ReLu.**"
      ]
    },
    {
      "cell_type": "code",
      "metadata": {
        "id": "1NeO0NcmeqT_",
        "colab_type": "code",
        "colab": {}
      },
      "source": [
        "model.add(Dense(250, activation='relu'))"
      ],
      "execution_count": null,
      "outputs": []
    },
    {
      "cell_type": "markdown",
      "metadata": {
        "id": "TLdVaxqVexLB",
        "colab_type": "text"
      },
      "source": [
        "**Create the last layer of this neural network with 10 neurons (one for each label) using the softmax function.**"
      ]
    },
    {
      "cell_type": "code",
      "metadata": {
        "id": "q_gRiafqe5Hb",
        "colab_type": "code",
        "colab": {}
      },
      "source": [
        "model.add(Dense(10, activation='softmax'))\n"
      ],
      "execution_count": null,
      "outputs": []
    },
    {
      "cell_type": "markdown",
      "metadata": {
        "id": "N3et1xoFgycT",
        "colab_type": "text"
      },
      "source": [
        "now check the summary of model."
      ]
    },
    {
      "cell_type": "code",
      "metadata": {
        "id": "oR0mCRPBfvQt",
        "colab_type": "code",
        "colab": {
          "base_uri": "https://localhost:8080/",
          "height": 521
        },
        "outputId": "5961ffff-561d-446c-b742-067cce6eb728"
      },
      "source": [
        "model.summary()"
      ],
      "execution_count": null,
      "outputs": [
        {
          "output_type": "stream",
          "text": [
            "Model: \"sequential_2\"\n",
            "_________________________________________________________________\n",
            "Layer (type)                 Output Shape              Param #   \n",
            "=================================================================\n",
            "conv2d_3 (Conv2D)            (None, 28, 28, 32)        2432      \n",
            "_________________________________________________________________\n",
            "max_pooling2d_3 (MaxPooling2 (None, 14, 14, 32)        0         \n",
            "_________________________________________________________________\n",
            "conv2d_4 (Conv2D)            (None, 10, 10, 64)        51264     \n",
            "_________________________________________________________________\n",
            "max_pooling2d_4 (MaxPooling2 (None, 5, 5, 64)          0         \n",
            "_________________________________________________________________\n",
            "flatten_2 (Flatten)          (None, 1600)              0         \n",
            "_________________________________________________________________\n",
            "dense_5 (Dense)              (None, 1000)              1601000   \n",
            "_________________________________________________________________\n",
            "dropout_3 (Dropout)          (None, 1000)              0         \n",
            "_________________________________________________________________\n",
            "dense_6 (Dense)              (None, 500)               500500    \n",
            "_________________________________________________________________\n",
            "dropout_4 (Dropout)          (None, 500)               0         \n",
            "_________________________________________________________________\n",
            "dense_7 (Dense)              (None, 250)               125250    \n",
            "_________________________________________________________________\n",
            "dense_8 (Dense)              (None, 10)                2510      \n",
            "=================================================================\n",
            "Total params: 2,282,956\n",
            "Trainable params: 2,282,956\n",
            "Non-trainable params: 0\n",
            "_________________________________________________________________\n"
          ],
          "name": "stdout"
        }
      ]
    },
    {
      "cell_type": "code",
      "metadata": {
        "id": "IHAhcMuzhXGq",
        "colab_type": "code",
        "colab": {
          "base_uri": "https://localhost:8080/",
          "height": 34
        },
        "outputId": "6fd1d0d4-853a-4d15-ef17-99323ddd0e5a"
      },
      "source": [
        "print(len(model.layers)) #find how many layers"
      ],
      "execution_count": null,
      "outputs": [
        {
          "output_type": "stream",
          "text": [
            "11\n"
          ],
          "name": "stdout"
        }
      ]
    },
    {
      "cell_type": "markdown",
      "metadata": {
        "id": "SQMFZjtVg-NJ",
        "colab_type": "text"
      },
      "source": [
        "**Compile the model.** Give it the categorical_crossentropy loss function which is used for classes greater than 2, the adam optimizer, and the accuracy of the model."
      ]
    },
    {
      "cell_type": "code",
      "metadata": {
        "id": "rI8p3FxWhKM4",
        "colab_type": "code",
        "colab": {}
      },
      "source": [
        "model.compile(loss='categorical_crossentropy', \n",
        "              optimizer='adam',\n",
        "              metrics=['accuracy'])"
      ],
      "execution_count": null,
      "outputs": []
    },
    {
      "cell_type": "markdown",
      "metadata": {
        "id": "jwCtfdEbhWg1",
        "colab_type": "text"
      },
      "source": [
        "**Train the model using the fit() method,** Fit() is another word for training. We will train the model on the training data with batch size =256, epochs =10, and split the data into training on 80% of the data and using the other 20% as validation. Training may take some time to finish.\n",
        "\n",
        "Batch: Total number of training examples present in a single batch\n",
        "\n",
        "Epoch:The number of iterations when an ENTIRE dataset is passed forward and backward through the neural network only ONCE.\n"
      ]
    },
    {
      "cell_type": "code",
      "metadata": {
        "id": "hbsaRRbOhkYF",
        "colab_type": "code",
        "colab": {
          "base_uri": "https://localhost:8080/",
          "height": 390
        },
        "outputId": "502f9204-95af-44a5-b357-f71effd3844c"
      },
      "source": [
        "hist = model.fit(x_train, y_train_one_hot, \n",
        "           batch_size=256, epochs=10, validation_split=0.2 )"
      ],
      "execution_count": null,
      "outputs": [
        {
          "output_type": "stream",
          "text": [
            "Train on 40000 samples, validate on 10000 samples\n",
            "Epoch 1/10\n",
            "40000/40000 [==============================] - 79s 2ms/step - loss: 1.7516 - accuracy: 0.3455 - val_loss: 1.4315 - val_accuracy: 0.4736\n",
            "Epoch 2/10\n",
            "40000/40000 [==============================] - 79s 2ms/step - loss: 1.3509 - accuracy: 0.5070 - val_loss: 1.2529 - val_accuracy: 0.5471\n",
            "Epoch 3/10\n",
            "40000/40000 [==============================] - 82s 2ms/step - loss: 1.1790 - accuracy: 0.5755 - val_loss: 1.1096 - val_accuracy: 0.5998\n",
            "Epoch 4/10\n",
            "40000/40000 [==============================] - 78s 2ms/step - loss: 1.0645 - accuracy: 0.6207 - val_loss: 1.0331 - val_accuracy: 0.6306\n",
            "Epoch 5/10\n",
            "40000/40000 [==============================] - 78s 2ms/step - loss: 0.9673 - accuracy: 0.6587 - val_loss: 0.9640 - val_accuracy: 0.6657\n",
            "Epoch 6/10\n",
            "40000/40000 [==============================] - 78s 2ms/step - loss: 0.8878 - accuracy: 0.6861 - val_loss: 0.9196 - val_accuracy: 0.6855\n",
            "Epoch 7/10\n",
            "40000/40000 [==============================] - 78s 2ms/step - loss: 0.8038 - accuracy: 0.7162 - val_loss: 0.9541 - val_accuracy: 0.6721\n",
            "Epoch 8/10\n",
            "40000/40000 [==============================] - 78s 2ms/step - loss: 0.7351 - accuracy: 0.7416 - val_loss: 0.9006 - val_accuracy: 0.6926\n",
            "Epoch 9/10\n",
            "40000/40000 [==============================] - 78s 2ms/step - loss: 0.6761 - accuracy: 0.7639 - val_loss: 0.8855 - val_accuracy: 0.7059\n",
            "Epoch 10/10\n",
            "40000/40000 [==============================] - 81s 2ms/step - loss: 0.6116 - accuracy: 0.7850 - val_loss: 0.8796 - val_accuracy: 0.7114\n"
          ],
          "name": "stdout"
        }
      ]
    },
    {
      "cell_type": "markdown",
      "metadata": {
        "id": "gylYyUybh87h",
        "colab_type": "text"
      },
      "source": [
        "**Get The Models Metrics**\n",
        "\n",
        "Get the models accuracy on the test data separately."
      ]
    },
    {
      "cell_type": "code",
      "metadata": {
        "id": "T_L-gkr8iLj7",
        "colab_type": "code",
        "colab": {
          "base_uri": "https://localhost:8080/",
          "height": 50
        },
        "outputId": "d6c42319-cce0-462e-d12a-745581d2c5aa"
      },
      "source": [
        "model.evaluate(x_test, y_test_one_hot)"
      ],
      "execution_count": null,
      "outputs": [
        {
          "output_type": "stream",
          "text": [
            "10000/10000 [==============================] - 7s 685us/step\n"
          ],
          "name": "stdout"
        },
        {
          "output_type": "execute_result",
          "data": {
            "text/plain": [
              "[0.8831970622062683, 0.7049999833106995]"
            ]
          },
          "metadata": {
            "tags": []
          },
          "execution_count": 92
        }
      ]
    },
    {
      "cell_type": "markdown",
      "metadata": {
        "id": "WwUM5Bx2lRGI",
        "colab_type": "text"
      },
      "source": [
        "Visualize the models accuracy for both the training and validation data."
      ]
    },
    {
      "cell_type": "code",
      "metadata": {
        "id": "hQC6J3bAlS9o",
        "colab_type": "code",
        "colab": {
          "base_uri": "https://localhost:8080/",
          "height": 296
        },
        "outputId": "70d75a7f-81da-4b5d-9d0a-05796be4abad"
      },
      "source": [
        "#Visualize the models accuracy\n",
        "plt.plot(hist.history['accuracy'])\n",
        "plt.plot(hist.history['val_accuracy'])\n",
        "plt.title('Model accuracy')\n",
        "plt.ylabel('Accuracy')\n",
        "plt.xlabel('Epoch')\n",
        "plt.legend(['Train', 'Val'], loc='upper left')\n",
        "plt.show()"
      ],
      "execution_count": null,
      "outputs": [
        {
          "output_type": "display_data",
          "data": {
            "image/png": "[encoded data removed]",
            "text/plain": [
              "<Figure size 432x288 with 1 Axes>"
            ]
          },
          "metadata": {
            "tags": [],
            "needs_background": "light"
          }
        }
      ]
    },
    {
      "cell_type": "markdown",
      "metadata": {
        "id": "gMzNqFG7ltWx",
        "colab_type": "text"
      },
      "source": [
        "Visualize the model loss for both the training and validation data."
      ]
    },
    {
      "cell_type": "code",
      "metadata": {
        "id": "cbn03Mdgl5eC",
        "colab_type": "code",
        "colab": {
          "base_uri": "https://localhost:8080/",
          "height": 296
        },
        "outputId": "07cec10c-816a-4ecc-925e-1ba478b5fe2b"
      },
      "source": [
        "#Visualize the models loss\n",
        "plt.plot(hist.history['loss'])\n",
        "plt.plot(hist.history['val_loss'])\n",
        "plt.title('Model loss')\n",
        "plt.ylabel('Loss')\n",
        "plt.xlabel('Epoch')\n",
        "plt.legend(['Train', 'Val'], loc='upper right')\n",
        "plt.show()"
      ],
      "execution_count": null,
      "outputs": [
        {
          "output_type": "display_data",
          "data": {
            "image/png": "[encoded data removed]",
            "text/plain": [
              "<Figure size 432x288 with 1 Axes>"
            ]
          },
          "metadata": {
            "tags": [],
            "needs_background": "light"
          }
        }
      ]
    },
    {
      "cell_type": "markdown",
      "metadata": {
        "id": "wB0k4O7Cmo1Z",
        "colab_type": "text"
      },
      "source": [
        "**Test The Model**\n",
        "\n",
        "Load the data that you want to classify from an image file into the variable new_image."
      ]
    },
    {
      "cell_type": "code",
      "metadata": {
        "id": "V155PTHxmxZ7",
        "colab_type": "code",
        "colab": {
          "resources": {
            "http://localhost:8080/nbextensions/google.colab/files.js": {
              "data": "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",
              "ok": true,
              "headers": [
                [
                  "content-type",
                  "application/javascript"
                ]
              ],
              "status": 200,
              "status_text": ""
            }
          },
          "base_uri": "https://localhost:8080/",
          "height": 73
        },
        "outputId": "7f51f8c2-d5c8-4a1a-d066-b47abfab9fce"
      },
      "source": [
        "#Load the data\n",
        "from google.colab import files # Use to load data on Google Colab\n",
        "uploaded = files.upload() # Use to load data on Google Colab\n"
      ],
      "execution_count": null,
      "outputs": [
        {
          "output_type": "display_data",
          "data": {
            "text/html": [
              "\n",
              "     <input type=\"file\" id=\"files-430ca7d2-f4cb-4270-a4a8-c39f755bc890\" name=\"files[]\" multiple disabled\n",
              "        style=\"border:none\" />\n",
              "     <output id=\"result-430ca7d2-f4cb-4270-a4a8-c39f755bc890\">\n",
              "      Upload widget is only available when the cell has been executed in the\n",
              "      current browser session. Please rerun this cell to enable.\n",
              "      </output>\n",
              "      <script src=\"/nbextensions/google.colab/files.js\"></script> "
            ],
            "text/plain": [
              "<IPython.core.display.HTML object>"
            ]
          },
          "metadata": {
            "tags": []
          }
        },
        {
          "output_type": "stream",
          "text": [
            "Saving IMG-20200531-WA0042.jpg to IMG-20200531-WA0042.jpg\n"
          ],
          "name": "stdout"
        }
      ]
    },
    {
      "cell_type": "code",
      "metadata": {
        "id": "VRKqf7tSqVKp",
        "colab_type": "code",
        "colab": {}
      },
      "source": [
        "new_image = plt.imread(\"/content/IMG-20200531-WA0042.jpg\")"
      ],
      "execution_count": null,
      "outputs": []
    },
    {
      "cell_type": "markdown",
      "metadata": {
        "id": "rjcFWJu2n1fF",
        "colab_type": "text"
      },
      "source": [
        "Show the uploaded image."
      ]
    },
    {
      "cell_type": "code",
      "metadata": {
        "id": "RLo7Wx8tn3KB",
        "colab_type": "code",
        "colab": {
          "base_uri": "https://localhost:8080/",
          "height": 287
        },
        "outputId": "d93a3775-2ffd-4279-8bf0-1b872e69baa4"
      },
      "source": [
        "img = plt.imshow(new_image)"
      ],
      "execution_count": null,
      "outputs": [
        {
          "output_type": "display_data",
          "data": {
            "image/png": "[encoded data removed]",
            "text/plain": [
              "<Figure size 432x288 with 1 Axes>"
            ]
          },
          "metadata": {
            "tags": []
          }
        }
      ]
    },
    {
      "cell_type": "markdown",
      "metadata": {
        "id": "fpXUIclArACh",
        "colab_type": "text"
      },
      "source": [
        "Resize the image to a 32 x 32 pixel image with depth = 3, and show the image."
      ]
    },
    {
      "cell_type": "code",
      "metadata": {
        "id": "Cv9efm4erEWu",
        "colab_type": "code",
        "colab": {
          "base_uri": "https://localhost:8080/",
          "height": 284
        },
        "outputId": "dd03ca04-83b2-4fed-aa98-1208045a6186"
      },
      "source": [
        "from skimage.transform import resize\n",
        "resized_image = resize(new_image, (32,32,3))\n",
        "img = plt.imshow(resized_image)"
      ],
      "execution_count": null,
      "outputs": [
        {
          "output_type": "display_data",
          "data": {
            "image/png": "[encoded data removed]",
            "text/plain": [
              "<Figure size 432x288 with 1 Axes>"
            ]
          },
          "metadata": {
            "tags": []
          }
        }
      ]
    },
    {
      "cell_type": "markdown",
      "metadata": {
        "id": "r12ouH3trM7O",
        "colab_type": "text"
      },
      "source": [
        "Get the predictions for each class and store it into a variable."
      ]
    },
    {
      "cell_type": "code",
      "metadata": {
        "id": "x6Rfj0JArVWu",
        "colab_type": "code",
        "colab": {}
      },
      "source": [
        "predictions = model.predict(np.array( [resized_image] ))"
      ],
      "execution_count": null,
      "outputs": []
    },
    {
      "cell_type": "markdown",
      "metadata": {
        "id": "zoG7WjwAra80",
        "colab_type": "text"
      },
      "source": [
        "Show the predictions"
      ]
    },
    {
      "cell_type": "code",
      "metadata": {
        "id": "nlIoIXe6reBN",
        "colab_type": "code",
        "colab": {
          "base_uri": "https://localhost:8080/",
          "height": 67
        },
        "outputId": "5b8efc33-ae06-4063-974c-abbedea7b7f1"
      },
      "source": [
        "predictions"
      ],
      "execution_count": null,
      "outputs": [
        {
          "output_type": "execute_result",
          "data": {
            "text/plain": [
              "array([[5.29868470e-04, 1.67877437e-03, 6.63053850e-03, 8.49096298e-01,\n",
              "        4.67307662e-04, 8.63579735e-02, 1.04653835e-02, 5.91520395e-04,\n",
              "        4.33694124e-02, 8.12925631e-04]], dtype=float32)"
            ]
          },
          "metadata": {
            "tags": []
          },
          "execution_count": 117
        }
      ]
    },
    {
      "cell_type": "code",
      "metadata": {
        "id": "armNXFEFz_8R",
        "colab_type": "code",
        "colab": {
          "base_uri": "https://localhost:8080/",
          "height": 34
        },
        "outputId": "3418c824-9cb4-46d3-d21d-7f4314911bf9"
      },
      "source": [
        "predictions.argmax()"
      ],
      "execution_count": null,
      "outputs": [
        {
          "output_type": "execute_result",
          "data": {
            "text/plain": [
              "3"
            ]
          },
          "metadata": {
            "tags": []
          },
          "execution_count": 118
        }
      ]
    },
    {
      "cell_type": "markdown",
      "metadata": {
        "id": "3A_51663rgnQ",
        "colab_type": "text"
      },
      "source": [
        "Sort the predictions from least to greatest such that the highest probability is at index=9 and the lowest probability is at index = 0."
      ]
    },
    {
      "cell_type": "code",
      "metadata": {
        "id": "zxp0BceJrmzl",
        "colab_type": "code",
        "colab": {
          "base_uri": "https://localhost:8080/",
          "height": 34
        },
        "outputId": "a4577b77-e851-42cc-92bb-a897b7686d05"
      },
      "source": [
        "list_index = [0,1,2,3,4,5,6,7,8,9]\n",
        "x = predictions\n",
        "for i in range(10):\n",
        "  for j in range(10):\n",
        "    if x[0][list_index[i]] > x[0][list_index[j]]:\n",
        "      temp = list_index[i]\n",
        "      list_index[i] = list_index[j]\n",
        "      list_index[j] = temp\n",
        "#Show the sorted labels in order from highest probability to lowest\n",
        "print(list_index)"
      ],
      "execution_count": null,
      "outputs": [
        {
          "output_type": "stream",
          "text": [
            "[3, 5, 8, 6, 2, 1, 9, 7, 0, 4]\n"
          ],
          "name": "stdout"
        }
      ]
    },
    {
      "cell_type": "markdown",
      "metadata": {
        "id": "UHndZ1ZOryDz",
        "colab_type": "text"
      },
      "source": [
        "Print the first 5 most likely classes and the corresponding probability."
      ]
    },
    {
      "cell_type": "code",
      "metadata": {
        "id": "6vWTpG16rxcu",
        "colab_type": "code",
        "colab": {
          "base_uri": "https://localhost:8080/",
          "height": 101
        },
        "outputId": "0594ce9e-95e3-41cd-f201-bbb4eb0876d0"
      },
      "source": [
        "i=0\n",
        "for i in range(5):\n",
        "  print(classification[list_index[i]], ':', round(predictions[0][list_index[i]] * 100, 2), '%')"
      ],
      "execution_count": null,
      "outputs": [
        {
          "output_type": "stream",
          "text": [
            "cat : 84.91 %\n",
            "dog : 8.64 %\n",
            "ship : 4.34 %\n",
            "frog : 1.05 %\n",
            "bird : 0.66 %\n"
          ],
          "name": "stdout"
        }
      ]
    }
  ]
}