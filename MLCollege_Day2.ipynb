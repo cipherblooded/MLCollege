{
  "nbformat": 4,
  "nbformat_minor": 0,
  "metadata": {
    "colab": {
      "name": "MLCollege_Day2.ipynb",
      "provenance": [],
      "authorship_tag": "ABX9TyM4+BhCsqwe9uywwNS2Q83V",
      "include_colab_link": true
    },
    "kernelspec": {
      "name": "python3",
      "display_name": "Python 3"
    }
  },
  "cells": [
    {
      "cell_type": "markdown",
      "metadata": {
        "id": "view-in-github",
        "colab_type": "text"
      },
      "source": [
        "<a href=\"https://colab.research.google.com/github/ultrasmartary/MLCollege/blob/master/MLCollege_Day2.ipynb\" target=\"_parent\"><img src=\"https://colab.research.google.com/assets/colab-badge.svg\" alt=\"Open In Colab\"/></a>"
      ]
    },
    {
      "cell_type": "code",
      "metadata": {
        "id": "wpHVvNRWN0Sh",
        "colab_type": "code",
        "colab": {
          "base_uri": "https://localhost:8080/",
          "height": 51
        },
        "outputId": "0a9e4240-7e2f-4b07-fc0c-5f814fcceb34"
      },
      "source": [
        "import numpy as np\n",
        "a=np.array([[1,2,3,4],[5,6,7,8]],dtype=float)\n",
        "print(a)"
      ],
      "execution_count": 1,
      "outputs": [
        {
          "output_type": "stream",
          "text": [
            "[[1. 2. 3. 4.]\n",
            " [5. 6. 7. 8.]]\n"
          ],
          "name": "stdout"
        }
      ]
    },
    {
      "cell_type": "code",
      "metadata": {
        "id": "Pcuqr9MdOC9w",
        "colab_type": "code",
        "colab": {
          "base_uri": "https://localhost:8080/",
          "height": 51
        },
        "outputId": "e85a09c8-2ae5-4ee8-cc54-40df7a400774"
      },
      "source": [
        "b=np.arange(1,9,1)\n",
        "b.shape=((2,4))\n",
        "print(b)"
      ],
      "execution_count": 2,
      "outputs": [
        {
          "output_type": "stream",
          "text": [
            "[[1 2 3 4]\n",
            " [5 6 7 8]]\n"
          ],
          "name": "stdout"
        }
      ]
    },
    {
      "cell_type": "code",
      "metadata": {
        "id": "VLfbs-LvOIfU",
        "colab_type": "code",
        "colab": {
          "base_uri": "https://localhost:8080/",
          "height": 68
        },
        "outputId": "31bbf58b-510a-430e-e877-49e7e0304fd6"
      },
      "source": [
        "c=np.zeros((3,3),dtype=int)\n",
        "print(c)"
      ],
      "execution_count": 3,
      "outputs": [
        {
          "output_type": "stream",
          "text": [
            "[[0 0 0]\n",
            " [0 0 0]\n",
            " [0 0 0]]\n"
          ],
          "name": "stdout"
        }
      ]
    },
    {
      "cell_type": "code",
      "metadata": {
        "id": "Zla8HC1sOLck",
        "colab_type": "code",
        "colab": {
          "base_uri": "https://localhost:8080/",
          "height": 85
        },
        "outputId": "03c55ac5-0265-426e-e763-02488f1f676a"
      },
      "source": [
        "d=np.linspace(1,9,16,endpoint=True,retstep=True)\n",
        "print(d)"
      ],
      "execution_count": 4,
      "outputs": [
        {
          "output_type": "stream",
          "text": [
            "(array([1.        , 1.53333333, 2.06666667, 2.6       , 3.13333333,\n",
            "       3.66666667, 4.2       , 4.73333333, 5.26666667, 5.8       ,\n",
            "       6.33333333, 6.86666667, 7.4       , 7.93333333, 8.46666667,\n",
            "       9.        ]), 0.5333333333333333)\n"
          ],
          "name": "stdout"
        }
      ]
    },
    {
      "cell_type": "code",
      "metadata": {
        "id": "U5bTwoKZON-U",
        "colab_type": "code",
        "colab": {
          "base_uri": "https://localhost:8080/",
          "height": 68
        },
        "outputId": "8fb6b72d-8385-46d4-ee69-0fa55203773c"
      },
      "source": [
        "#Random Module has four major functions:\n",
        "#rand()\n",
        "#randn()\n",
        "#ranf()\n",
        "#randint()\n",
        "a=np.random.rand(3,4)\n",
        "print(a)\n"
      ],
      "execution_count": 5,
      "outputs": [
        {
          "output_type": "stream",
          "text": [
            "[[0.36094983 0.23215244 0.0625458  0.85856015]\n",
            " [0.32314174 0.56830039 0.35712676 0.60597319]\n",
            " [0.28389035 0.24409361 0.1508367  0.22721521]]\n"
          ],
          "name": "stdout"
        }
      ]
    },
    {
      "cell_type": "code",
      "metadata": {
        "id": "ecUEnsm_OSBU",
        "colab_type": "code",
        "colab": {
          "base_uri": "https://localhost:8080/",
          "height": 102
        },
        "outputId": "27c6a7ff-9b28-43c9-b005-1636627fb8e1"
      },
      "source": [
        "b=np.random.randn(5,2)\n",
        "print(b)"
      ],
      "execution_count": 6,
      "outputs": [
        {
          "output_type": "stream",
          "text": [
            "[[-0.95706288  0.21450447]\n",
            " [ 0.38902251  1.67409873]\n",
            " [-1.27479853 -0.47802096]\n",
            " [-1.28764211 -0.75495449]\n",
            " [ 0.40699918  0.21609184]]\n"
          ],
          "name": "stdout"
        }
      ]
    },
    {
      "cell_type": "code",
      "metadata": {
        "id": "CdawHmnAOUrs",
        "colab_type": "code",
        "colab": {
          "base_uri": "https://localhost:8080/",
          "height": 34
        },
        "outputId": "0e4ba2ee-a318-4ac4-fd1c-0ed6d310d45d"
      },
      "source": [
        "c=np.random.randint(2,9,size=5)\n",
        "print(c)"
      ],
      "execution_count": 7,
      "outputs": [
        {
          "output_type": "stream",
          "text": [
            "[6 8 5 8 4]\n"
          ],
          "name": "stdout"
        }
      ]
    },
    {
      "cell_type": "code",
      "metadata": {
        "id": "ydiNHm6KOXP8",
        "colab_type": "code",
        "colab": {
          "base_uri": "https://localhost:8080/",
          "height": 153
        },
        "outputId": "ae883b8c-2035-465d-eab6-b7a4c64c6c99"
      },
      "source": [
        "#Attributes of Arrays\n",
        "#Dimension:ndim\n",
        "#Shape:shape\n",
        "#Size:size\n",
        "#Datatype:dtype\n",
        "#Itemsize:itemsize\n",
        "a=np.arange(0,12,1)\n",
        "a.shape=((3,4))\n",
        "print('a',a)\n",
        "print('Dimensions',a.ndim)\n",
        "print('Shape',a.shape)\n",
        "print('Size:',a.size)\n",
        "print('Datatype:',a.dtype)\n",
        "print('itemsize:',a.itemsize)\n"
      ],
      "execution_count": 8,
      "outputs": [
        {
          "output_type": "stream",
          "text": [
            "a [[ 0  1  2  3]\n",
            " [ 4  5  6  7]\n",
            " [ 8  9 10 11]]\n",
            "Dimensions 2\n",
            "Shape (3, 4)\n",
            "Size: 12\n",
            "Datatype: int64\n",
            "itemsize: 8\n"
          ],
          "name": "stdout"
        }
      ]
    },
    {
      "cell_type": "code",
      "metadata": {
        "id": "TcaF7rawOaQ8",
        "colab_type": "code",
        "colab": {
          "base_uri": "https://localhost:8080/",
          "height": 51
        },
        "outputId": "be245117-212f-4db1-d4a3-1ab7ff6c3bc8"
      },
      "source": [
        "#Indexing And Slicing\n",
        "b=np.arange(11,20,1)\n",
        "print(b)\n",
        "b[-3]"
      ],
      "execution_count": 9,
      "outputs": [
        {
          "output_type": "stream",
          "text": [
            "[11 12 13 14 15 16 17 18 19]\n"
          ],
          "name": "stdout"
        },
        {
          "output_type": "execute_result",
          "data": {
            "text/plain": [
              "17"
            ]
          },
          "metadata": {
            "tags": []
          },
          "execution_count": 9
        }
      ]
    },
    {
      "cell_type": "code",
      "metadata": {
        "id": "2oK4R8EsOeod",
        "colab_type": "code",
        "colab": {
          "base_uri": "https://localhost:8080/",
          "height": 85
        },
        "outputId": "3f9802ea-9fb7-4482-cbc2-a570ccf31311"
      },
      "source": [
        "print(a)\n",
        "a[-1,-2]"
      ],
      "execution_count": 10,
      "outputs": [
        {
          "output_type": "stream",
          "text": [
            "[[ 0  1  2  3]\n",
            " [ 4  5  6  7]\n",
            " [ 8  9 10 11]]\n"
          ],
          "name": "stdout"
        },
        {
          "output_type": "execute_result",
          "data": {
            "text/plain": [
              "10"
            ]
          },
          "metadata": {
            "tags": []
          },
          "execution_count": 10
        }
      ]
    },
    {
      "cell_type": "code",
      "metadata": {
        "id": "yNI5VC-ZOg2V",
        "colab_type": "code",
        "colab": {
          "base_uri": "https://localhost:8080/",
          "height": 85
        },
        "outputId": "a04845a2-edf9-4e3b-8fac-1e67b6e35d24"
      },
      "source": [
        "#Slicing\n",
        "print(b)\n",
        "print(b[2:8:2])\n",
        "print(b[3:])\n",
        "print(b[:])"
      ],
      "execution_count": 11,
      "outputs": [
        {
          "output_type": "stream",
          "text": [
            "[11 12 13 14 15 16 17 18 19]\n",
            "[13 15 17]\n",
            "[14 15 16 17 18 19]\n",
            "[11 12 13 14 15 16 17 18 19]\n"
          ],
          "name": "stdout"
        }
      ]
    },
    {
      "cell_type": "code",
      "metadata": {
        "id": "RgPElc29Ojcd",
        "colab_type": "code",
        "colab": {
          "base_uri": "https://localhost:8080/",
          "height": 102
        },
        "outputId": "56707eaa-c0a1-4d2c-930e-5d01ac779632"
      },
      "source": [
        "#5 6\n",
        "#9 10\n",
        "print(a)\n",
        "a[1::,1:3:1]"
      ],
      "execution_count": 12,
      "outputs": [
        {
          "output_type": "stream",
          "text": [
            "[[ 0  1  2  3]\n",
            " [ 4  5  6  7]\n",
            " [ 8  9 10 11]]\n"
          ],
          "name": "stdout"
        },
        {
          "output_type": "execute_result",
          "data": {
            "text/plain": [
              "array([[ 5,  6],\n",
              "       [ 9, 10]])"
            ]
          },
          "metadata": {
            "tags": []
          },
          "execution_count": 12
        }
      ]
    },
    {
      "cell_type": "code",
      "metadata": {
        "id": "u1DeqwFKOmdc",
        "colab_type": "code",
        "colab": {
          "base_uri": "https://localhost:8080/",
          "height": 68
        },
        "outputId": "bf92b4e7-113f-4ae2-e483-003d098fa0b8"
      },
      "source": [
        "a[0:3:1,0:4:2]"
      ],
      "execution_count": 13,
      "outputs": [
        {
          "output_type": "execute_result",
          "data": {
            "text/plain": [
              "array([[ 0,  2],\n",
              "       [ 4,  6],\n",
              "       [ 8, 10]])"
            ]
          },
          "metadata": {
            "tags": []
          },
          "execution_count": 13
        }
      ]
    }
  ]
}