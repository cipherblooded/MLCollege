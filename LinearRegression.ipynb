{
  "nbformat": 4,
  "nbformat_minor": 0,
  "metadata": {
    "kernelspec": {
      "display_name": "Python 3",
      "language": "python",
      "name": "python3"
    },
    "language_info": {
      "codemirror_mode": {
        "name": "ipython",
        "version": 3
      },
      "file_extension": ".py",
      "mimetype": "text/x-python",
      "name": "python",
      "nbconvert_exporter": "python",
      "pygments_lexer": "ipython3",
      "version": "3.7.6"
    },
    "colab": {
      "name": "LinearRegression.ipynb",
      "provenance": [],
      "toc_visible": true,
      "include_colab_link": true
    }
  },
  "cells": [
    {
      "cell_type": "markdown",
      "metadata": {
        "id": "view-in-github",
        "colab_type": "text"
      },
      "source": [
        "<a href=\"https://colab.research.google.com/github/ultraSmartAry/MLCollege/blob/master/LinearRegression.ipynb\" target=\"_parent\"><img src=\"https://colab.research.google.com/assets/colab-badge.svg\" alt=\"Open In Colab\"/></a>"
      ]
    },
    {
      "cell_type": "markdown",
      "metadata": {
        "id": "szcKAn6STZOe",
        "colab_type": "text"
      },
      "source": [
        "# Machine Learning\n",
        "##### Supervised\n",
        "###### Regression\n",
        "-Simple Linear Regression\n",
        "-Multiple Regression\n",
        "###### Classification\n",
        "-Perceptron/SGD\n",
        "-SVM\n",
        "-KNN\n",
        "##### Unsupervised\n",
        "###### Clustering\n",
        "-K-Means\n",
        "##### Reinforcement\n",
        "-Markov Decision Process\n",
        "-Q learning\n"
      ]
    },
    {
      "cell_type": "code",
      "metadata": {
        "id": "LZUWDyu7NffF",
        "colab_type": "code",
        "colab": {
          "base_uri": "https://localhost:8080/",
          "height": 34
        },
        "outputId": "3fe0594c-924a-4f9b-8a7c-129789e8bd85"
      },
      "source": [
        "from google.colab import drive\n",
        "drive.mount('/content/drive')"
      ],
      "execution_count": 1,
      "outputs": [
        {
          "output_type": "stream",
          "text": [
            "Drive already mounted at /content/drive; to attempt to forcibly remount, call drive.mount(\"/content/drive\", force_remount=True).\n"
          ],
          "name": "stdout"
        }
      ]
    },
    {
      "cell_type": "markdown",
      "metadata": {
        "id": "snsdLvgkTZOg",
        "colab_type": "text"
      },
      "source": [
        "**# Linear regression:**"
      ]
    },
    {
      "cell_type": "code",
      "metadata": {
        "id": "xzDV15loTZOi",
        "colab_type": "code",
        "colab": {
          "base_uri": "https://localhost:8080/",
          "height": 119
        },
        "outputId": "d9f1cc35-5d10-43f3-a5d1-1960ee53a4b3"
      },
      "source": [
        "# Simple Linear Regression\n",
        "\n",
        "import numpy as np\n",
        "from sklearn.linear_model import LinearRegression\n",
        "x = np.array([0, 1, 2, 3, 4, 5, 6, 7, 8, 9]) \n",
        "y = np.array([1, 3, 2, 5, 7, 8, 8, 9, 10, 12]) \n",
        "\n",
        "print(np.shape(x))\n",
        "x_train=x.reshape(-1,1)\n",
        "print(np.shape(x_train))\n",
        "\n",
        "y_train=y.reshape(-1,1)\n",
        "\n",
        "model = LinearRegression()\n",
        "\n",
        "model.fit(x_train, y_train)\n",
        "\n",
        "print('Score of model is: ', model.score(x_train, y_train))\n",
        "print(\"The value of m is: \", model.coef_)\n",
        "print(\"The value of c is: \", model.intercept_)\n",
        "\n",
        "x_test=np.array([12]).reshape(1,-1)\n",
        "y_predict=model.predict(x_test)\n",
        "\n",
        "print(\"The predicted value of y for given x = {} is; y = {} \".format(x_test[0][0],y_predict[0][0]))\n"
      ],
      "execution_count": 2,
      "outputs": [
        {
          "output_type": "stream",
          "text": [
            "(10,)\n",
            "(10, 1)\n",
            "Score of model is:  0.952538038613988\n",
            "The value of m is:  [[1.16969697]]\n",
            "The value of c is:  [1.23636364]\n",
            "The predicted value of y for given x = 12 is; y = 15.272727272727272 \n"
          ],
          "name": "stdout"
        }
      ]
    },
    {
      "cell_type": "code",
      "metadata": {
        "id": "v_1565OSTZOx",
        "colab_type": "code",
        "colab": {
          "base_uri": "https://localhost:8080/",
          "height": 1000
        },
        "outputId": "50f23ed4-6505-4bca-b4d6-4e8688078c13"
      },
      "source": [
        "# Multiple Linear Regression\n",
        "import pandas as pd\n",
        "from sklearn.linear_model import LinearRegression\n",
        "\n",
        "a = pd.read_csv(\"/content/drive/My Drive/Data Science/Work Station/Colab_Dataset/cars.csv\")\n",
        "print(a)\n",
        "\n",
        "x_train = a[['Weight', 'Volume']]#independent variable\n",
        "y_train = a['CO2']#Dependent variable\n",
        "print(x_train)\n",
        "print(type(x_train))\n",
        "\n",
        "model = LinearRegression()\n",
        "\n",
        "model.fit(x_train, y_train)\n",
        "x_test=[[2300, 1300]]\n",
        "y_predict = model.predict(x_test)\n",
        "\n",
        "print(y_predict)"
      ],
      "execution_count": 3,
      "outputs": [
        {
          "output_type": "stream",
          "text": [
            "    Volume  Weight    CO2         Car       Model\n",
            "0   1000.0   790.0   99.0      Toyota        Aygo\n",
            "1   1200.0  1160.0   95.0  Mitsubishi  Space Star\n",
            "2   1000.0   929.0   95.0       Skoda      Citigo\n",
            "3    900.0   865.0   90.0        Fiat         500\n",
            "4   1500.0  1140.0  105.0        Mini      Cooper\n",
            "5   1000.0   929.0  105.0          VW         Up!\n",
            "6   1400.0  1109.0   90.0       Skoda       Fabia\n",
            "7   1500.0  1365.0   92.0    Mercedes     A-Class\n",
            "8   1500.0  1112.0   98.0        Ford      Fiesta\n",
            "9   1600.0  1150.0   99.0        Audi          A1\n",
            "10  1100.0   980.0   99.0     Hyundai         I20\n",
            "11  1300.0   990.0  101.0      Suzuki       Swift\n",
            "12  1000.0  1112.0   99.0        Ford      Fiesta\n",
            "13  1600.0  1252.0   94.0       Honda       Civic\n",
            "14  1600.0  1326.0   97.0      Hundai         I30\n",
            "15  1600.0  1330.0   97.0        Opel       Astra\n",
            "16  1600.0  1365.0   99.0         BMW           1\n",
            "17  2200.0  1280.0  104.0       Mazda           3\n",
            "18  1600.0  1119.0  104.0       Skoda       Rapid\n",
            "19  2000.0  1328.0  105.0        Ford       Focus\n",
            "20  1600.0  1584.0   94.0        Ford      Mondeo\n",
            "21  2000.0  1428.0   99.0        Opel    Insignia\n",
            "22  2100.0  1365.0   99.0    Mercedes     C-Class\n",
            "23  1600.0  1415.0   99.0       Skoda     Octavia\n",
            "24  2000.0  1415.0   99.0       Volvo         S60\n",
            "25  1500.0  1465.0  102.0    Mercedes         CLA\n",
            "26  2000.0  1490.0  104.0        Audi          A4\n",
            "27  2000.0  1725.0  114.0        Audi          A6\n",
            "28  1600.0  1523.0  109.0       Volvo         V70\n",
            "29  2000.0  1705.0  114.0         BMW           5\n",
            "30  2100.0  1605.0  115.0    Mercedes     E-Class\n",
            "31  2000.0  1746.0  117.0       Volvo        XC70\n",
            "32  1600.0  1235.0  104.0        Ford       B-Max\n",
            "33  1600.0  1390.0  108.0         BMW           2\n",
            "34  1600.0  1405.0  109.0        Opel      Zafira\n",
            "35  2500.0  1395.0  120.0    Mercedes         SLK\n",
            "    Weight  Volume\n",
            "0    790.0  1000.0\n",
            "1   1160.0  1200.0\n",
            "2    929.0  1000.0\n",
            "3    865.0   900.0\n",
            "4   1140.0  1500.0\n",
            "5    929.0  1000.0\n",
            "6   1109.0  1400.0\n",
            "7   1365.0  1500.0\n",
            "8   1112.0  1500.0\n",
            "9   1150.0  1600.0\n",
            "10   980.0  1100.0\n",
            "11   990.0  1300.0\n",
            "12  1112.0  1000.0\n",
            "13  1252.0  1600.0\n",
            "14  1326.0  1600.0\n",
            "15  1330.0  1600.0\n",
            "16  1365.0  1600.0\n",
            "17  1280.0  2200.0\n",
            "18  1119.0  1600.0\n",
            "19  1328.0  2000.0\n",
            "20  1584.0  1600.0\n",
            "21  1428.0  2000.0\n",
            "22  1365.0  2100.0\n",
            "23  1415.0  1600.0\n",
            "24  1415.0  2000.0\n",
            "25  1465.0  1500.0\n",
            "26  1490.0  2000.0\n",
            "27  1725.0  2000.0\n",
            "28  1523.0  1600.0\n",
            "29  1705.0  2000.0\n",
            "30  1605.0  2100.0\n",
            "31  1746.0  2000.0\n",
            "32  1235.0  1600.0\n",
            "33  1390.0  1600.0\n",
            "34  1405.0  1600.0\n",
            "35  1395.0  2500.0\n",
            "<class 'pandas.core.frame.DataFrame'>\n",
            "[107.2087328]\n"
          ],
          "name": "stdout"
        }
      ]
    },
    {
      "cell_type": "code",
      "metadata": {
        "id": "RfYEQYrXTZOq",
        "colab_type": "code",
        "colab": {
          "base_uri": "https://localhost:8080/",
          "height": 347
        },
        "outputId": "36cbbd7b-bdbd-43db-f71a-aba332b1f4d7"
      },
      "source": [
        "#Simple Linear Regression Custom\n",
        "import numpy as np \n",
        "import matplotlib.pyplot as plt \n",
        "\n",
        "def compute_coef(x, y): \n",
        "# number of data points \n",
        "    n = np.size(x) \n",
        "# mean of x and y vector \n",
        "    mean_x= np.mean(x) \n",
        "    mean_y= np.mean(y)\n",
        "# calculating cross-deviation and deviation about x \n",
        "    sum_xy = np.sum(y*x) - n*mean_x*mean_y \n",
        "    sum_xx = np.sum(x*x) - n*mean_x*mean_x \n",
        "\n",
        "# calculating regression coefficients \n",
        "    m = sum_xy / sum_xx \n",
        "    c = mean_y - m*mean_x \n",
        "\n",
        "    return(c, m) \n",
        "\n",
        "def plot_regression_line(x, y, c): \n",
        "# plotting the actual points as scatter plot \n",
        "    plt.scatter(x, y, color = \"m\", \n",
        "        marker = \"o\", s = 30) \n",
        "# predicted response vector \n",
        "    f = c[0] + c[1]*x \n",
        "\n",
        "# plotting the regression line \n",
        "    plt.plot(x, f, color = \"g\") \n",
        "\n",
        "# putting labels \n",
        "    plt.xlabel('x') \n",
        "    plt.ylabel('y') \n",
        "\n",
        "#function to show plot \n",
        "    plt.show() \n",
        "\n",
        "def myreg(): \n",
        "# observations \n",
        "    x = np.array([0, 1, 2, 3, 4, 5, 6, 7, 8, 9]) \n",
        "    y = np.array([1, 3, 2, 5, 7, 8, 8, 9, 10, 12]) \n",
        "\n",
        "# estimating coefficients \n",
        "    b = compute_coef(x, y) \n",
        "    print(\"Estimated coefficients:\\nc = {} \\nm = {}\".format(b[0], b[1])) \n",
        "\n",
        "# plotting regression line \n",
        "    plot_regression_line(x, y, b) \n",
        "    \n",
        "    new_x=np.array([12])\n",
        "    pred_y=b[0]+new_x*b[1]\n",
        "    print(\"The predicted value of y for given x ={} is; y ={} \".format(new_x[0],pred_y[0]))\n",
        "\n",
        "# Main function \n",
        "myreg() \n"
      ],
      "execution_count": 4,
      "outputs": [
        {
          "output_type": "stream",
          "text": [
            "Estimated coefficients:\n",
            "c = 1.2363636363636363 \n",
            "m = 1.1696969696969697\n"
          ],
          "name": "stdout"
        },
        {
          "output_type": "display_data",
          "data": {
            "image/png": "[encoded data removed]",
            "text/plain": [
              "<Figure size 432x288 with 1 Axes>"
            ]
          },
          "metadata": {
            "tags": [],
            "needs_background": "light"
          }
        },
        {
          "output_type": "stream",
          "text": [
            "The predicted value of y for given x =12 is; y =15.272727272727272 \n"
          ],
          "name": "stdout"
        }
      ]
    }
  ]
}