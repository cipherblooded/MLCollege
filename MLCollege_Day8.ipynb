{
  "nbformat": 4,
  "nbformat_minor": 0,
  "metadata": {
    "kernelspec": {
      "display_name": "Python 3",
      "language": "python",
      "name": "python3"
    },
    "language_info": {
      "codemirror_mode": {
        "name": "ipython",
        "version": 3
      },
      "file_extension": ".py",
      "mimetype": "text/x-python",
      "name": "python",
      "nbconvert_exporter": "python",
      "pygments_lexer": "ipython3",
      "version": "3.7.6"
    },
    "colab": {
      "name": "MLCollege_Day8.ipynb",
      "provenance": [],
      "include_colab_link": true
    }
  },
  "cells": [
    {
      "cell_type": "markdown",
      "metadata": {
        "id": "view-in-github",
        "colab_type": "text"
      },
      "source": [
        "<a href=\"https://colab.research.google.com/github/ultraSmartAry/MLCollege/blob/master/MLCollege_Day8.ipynb\" target=\"_parent\"><img src=\"https://colab.research.google.com/assets/colab-badge.svg\" alt=\"Open In Colab\"/></a>"
      ]
    },
    {
      "cell_type": "code",
      "metadata": {
        "id": "NUr2YbfCE3wD",
        "colab_type": "code",
        "colab": {},
        "outputId": "c282aef2-fea9-4f89-bc7c-931ce4b49dcb"
      },
      "source": [
        "import numpy as np\n",
        "from sklearn.linear_model import Perceptron\n",
        "x=np.array([[0,0],[0,1],[1,0],[1,1]])\n",
        "y=np.array([0,1,1,1])\n",
        "#print(x)\n",
        "#print(y)\n",
        "clf=Perceptron()\n",
        "clf.fit(x,y)\n",
        "print(clf.score(x,y))\n",
        "a=np.array([[0,0]])\n",
        "print(clf.predict(a))"
      ],
      "execution_count": null,
      "outputs": [
        {
          "output_type": "stream",
          "text": [
            "1.0\n",
            "[0]\n"
          ],
          "name": "stdout"
        }
      ]
    },
    {
      "cell_type": "code",
      "metadata": {
        "id": "if7o4ZEtE3wV",
        "colab_type": "code",
        "colab": {},
        "outputId": "cdfe0180-4aa2-4b42-d2f7-619dff830710"
      },
      "source": [
        "import numpy as np\n",
        "def step(net):\n",
        "    if net>0:\n",
        "        return 1\n",
        "    else:\n",
        "        return 0\n",
        "x=np.array([[0,0],[0,1],[1,0],[1,1]])\n",
        "y=np.array([0,1,1,1])\n",
        "w1=-0.2\n",
        "w2=0.4\n",
        "Epoch=1\n",
        "while Epoch<=4:\n",
        "    i=0\n",
        "    while i<=3:\n",
        "        net2=w1*x[i][0]+w2*x[i][1]\n",
        "        a=step(net2)\n",
        "        if a!=y[i]:\n",
        "            w1=w1+0.2*(y[i]-a)*x[i][0]\n",
        "            w2=w2+0.2*(y[i]-a)*x[i][1]\n",
        "        print(Epoch,\"x1= \",x[i][0],\"x2= \",x[i][1],\"w1= \",w1,\"w2= \",w2)\n",
        "        i=i+1\n",
        "    Epoch+=1\n"
      ],
      "execution_count": null,
      "outputs": [
        {
          "output_type": "stream",
          "text": [
            "1 x1=  0 x2=  0 w1=  -0.2 w2=  0.4\n",
            "1 x1=  0 x2=  1 w1=  -0.2 w2=  0.4\n",
            "1 x1=  1 x2=  0 w1=  0.0 w2=  0.4\n",
            "1 x1=  1 x2=  1 w1=  0.0 w2=  0.4\n",
            "2 x1=  0 x2=  0 w1=  0.0 w2=  0.4\n",
            "2 x1=  0 x2=  1 w1=  0.0 w2=  0.4\n",
            "2 x1=  1 x2=  0 w1=  0.2 w2=  0.4\n",
            "2 x1=  1 x2=  1 w1=  0.2 w2=  0.4\n",
            "3 x1=  0 x2=  0 w1=  0.2 w2=  0.4\n",
            "3 x1=  0 x2=  1 w1=  0.2 w2=  0.4\n",
            "3 x1=  1 x2=  0 w1=  0.2 w2=  0.4\n",
            "3 x1=  1 x2=  1 w1=  0.2 w2=  0.4\n",
            "4 x1=  0 x2=  0 w1=  0.2 w2=  0.4\n",
            "4 x1=  0 x2=  1 w1=  0.2 w2=  0.4\n",
            "4 x1=  1 x2=  0 w1=  0.2 w2=  0.4\n",
            "4 x1=  1 x2=  1 w1=  0.2 w2=  0.4\n"
          ],
          "name": "stdout"
        }
      ]
    },
    {
      "cell_type": "code",
      "metadata": {
        "id": "TRHVlW-HE3wg",
        "colab_type": "code",
        "colab": {}
      },
      "source": [
        ""
      ],
      "execution_count": null,
      "outputs": []
    }
  ]
}