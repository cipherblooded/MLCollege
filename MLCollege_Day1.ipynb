{
  "nbformat": 4,
  "nbformat_minor": 0,
  "metadata": {
    "kernelspec": {
      "display_name": "Python 3",
      "language": "python",
      "name": "python3"
    },
    "language_info": {
      "codemirror_mode": {
        "name": "ipython",
        "version": 3
      },
      "file_extension": ".py",
      "mimetype": "text/x-python",
      "name": "python",
      "nbconvert_exporter": "python",
      "pygments_lexer": "ipython3",
      "version": "3.7.6"
    },
    "colab": {
      "name": "MLCollege_Day1.ipynb",
      "provenance": [],
      "include_colab_link": true
    }
  },
  "cells": [
    {
      "cell_type": "markdown",
      "metadata": {
        "id": "view-in-github",
        "colab_type": "text"
      },
      "source": [
        "<a href=\"https://colab.research.google.com/github/ultrasmartary/MLCollege/blob/master/MLCollege_Day1.ipynb\" target=\"_parent\"><img src=\"https://colab.research.google.com/assets/colab-badge.svg\" alt=\"Open In Colab\"/></a>"
      ]
    },
    {
      "cell_type": "markdown",
      "metadata": {
        "id": "BLPkuQsua-4L",
        "colab_type": "text"
      },
      "source": [
        "# Getting Started"
      ]
    },
    {
      "cell_type": "code",
      "metadata": {
        "id": "kwe9HhI3a-4O",
        "colab_type": "code",
        "colab": {
          "base_uri": "https://localhost:8080/",
          "height": 34
        },
        "outputId": "a7633537-6e77-4353-c481-ef59fe9e71b0"
      },
      "source": [
        "print(\"Welcome to the world of Python\")"
      ],
      "execution_count": null,
      "outputs": [
        {
          "output_type": "stream",
          "text": [
            "Welcome to the world of Python\n"
          ],
          "name": "stdout"
        }
      ]
    },
    {
      "cell_type": "code",
      "metadata": {
        "id": "b6c6r_Cpa-4c",
        "colab_type": "code",
        "colab": {
          "base_uri": "https://localhost:8080/",
          "height": 34
        },
        "outputId": "0a6ac406-444f-4f58-8022-f4af0193b804"
      },
      "source": [
        "# How to write comments\n",
        "x=100\n",
        "print(x)# This is my second program"
      ],
      "execution_count": null,
      "outputs": [
        {
          "output_type": "stream",
          "text": [
            "100\n"
          ],
          "name": "stdout"
        }
      ]
    },
    {
      "cell_type": "markdown",
      "metadata": {
        "id": "_4IOLVpaa-4l",
        "colab_type": "text"
      },
      "source": [
        "# Variables in python"
      ]
    },
    {
      "cell_type": "code",
      "metadata": {
        "id": "CPQEyqnxa-4m",
        "colab_type": "code",
        "colab": {
          "base_uri": "https://localhost:8080/",
          "height": 85
        },
        "outputId": "549792bc-4f3e-413d-c5aa-6dde4d63b26e"
      },
      "source": [
        "# variables need not to be declared here\n",
        "x=100 #integer\n",
        "y='Python3'#string\n",
        "w=\"GNIOT Plot no7\"\n",
        "z=99.80 #float\n",
        "print(x,type(x))\n",
        "print(y, type(y))\n",
        "print(w,type(w))\n",
        "print(z,type(z))\n"
      ],
      "execution_count": null,
      "outputs": [
        {
          "output_type": "stream",
          "text": [
            "100 <class 'int'>\n",
            "Python3 <class 'str'>\n",
            "GNIOT Plot no7 <class 'str'>\n",
            "99.8 <class 'float'>\n"
          ],
          "name": "stdout"
        }
      ]
    },
    {
      "cell_type": "markdown",
      "metadata": {
        "id": "GnMukuYZa-4u",
        "colab_type": "text"
      },
      "source": [
        "# Data Types in Python\n",
        "Text Type:\tstr\n",
        "Numeric Types:\tint, float, complex\n",
        "Sequence Types:\tlist, tuple, range\n",
        "Mapping Type:\tdict\n",
        "Set Types:\tset, frozenset\n",
        "Boolean Type:\tbool\n",
        "Binary Types:\tbytes, bytearray, memoryview\n"
      ]
    },
    {
      "cell_type": "code",
      "metadata": {
        "id": "uNNlkYR8a-4v",
        "colab_type": "code",
        "colab": {
          "base_uri": "https://localhost:8080/",
          "height": 85
        },
        "outputId": "252f58fe-d3a1-4a64-db15-bb2d74bf06eb"
      },
      "source": [
        "print(type(x))\n",
        "print(type(y))\n",
        "print(type(z))\n",
        "print(type(w))"
      ],
      "execution_count": null,
      "outputs": [
        {
          "output_type": "stream",
          "text": [
            "<class 'int'>\n",
            "<class 'str'>\n",
            "<class 'float'>\n",
            "<class 'str'>\n"
          ],
          "name": "stdout"
        }
      ]
    },
    {
      "cell_type": "code",
      "metadata": {
        "id": "yPMUFyATa-42",
        "colab_type": "code",
        "colab": {
          "base_uri": "https://localhost:8080/",
          "height": 68
        },
        "outputId": "32b6a96c-6c22-4408-e05a-1bfcb7084065"
      },
      "source": [
        "# numeric data types\n",
        "a=110\n",
        "b=20.10\n",
        "c=100j\n",
        "print(type(a))\n",
        "print(type(b))\n",
        "print(type(c))"
      ],
      "execution_count": null,
      "outputs": [
        {
          "output_type": "stream",
          "text": [
            "<class 'int'>\n",
            "<class 'float'>\n",
            "<class 'complex'>\n"
          ],
          "name": "stdout"
        }
      ]
    },
    {
      "cell_type": "markdown",
      "metadata": {
        "id": "-NcQ_ey6a-5A",
        "colab_type": "text"
      },
      "source": [
        "#### Type casting\n",
        "int()\n",
        "float()\n",
        "str()"
      ]
    },
    {
      "cell_type": "code",
      "metadata": {
        "id": "7_wGc4xIa-5B",
        "colab_type": "code",
        "colab": {
          "base_uri": "https://localhost:8080/",
          "height": 68
        },
        "outputId": "3447cf59-b0b6-4dd2-c879-4ceb42bd08a2"
      },
      "source": [
        "a=input(\"Enter any number\")\n",
        "b=input(\"Enter another number\")\n",
        "print(int(a)+int(b))\n",
        "#print(type(a))"
      ],
      "execution_count": null,
      "outputs": [
        {
          "output_type": "stream",
          "text": [
            "Enter any number5\n",
            "Enter another number5\n",
            "10\n"
          ],
          "name": "stdout"
        }
      ]
    },
    {
      "cell_type": "code",
      "metadata": {
        "id": "o5y5tOiHa-5K",
        "colab_type": "code",
        "colab": {
          "base_uri": "https://localhost:8080/",
          "height": 119
        },
        "outputId": "cc78b8a6-7561-408c-c11d-330978614a60"
      },
      "source": [
        "e=int(9.9)\n",
        "f=int(\"8\")\n",
        "g=float(\"9.9\")\n",
        "h=float(10)\n",
        "l=str(3)\n",
        "m=str(9.9)\n",
        "print(type(e))\n",
        "print(type(f))\n",
        "print(type(g))\n",
        "print(type(h))\n",
        "print(type(l),l)\n",
        "print(type(m),m)"
      ],
      "execution_count": null,
      "outputs": [
        {
          "output_type": "stream",
          "text": [
            "<class 'int'>\n",
            "<class 'int'>\n",
            "<class 'float'>\n",
            "<class 'float'>\n",
            "<class 'str'> 3\n",
            "<class 'str'> 9.9\n"
          ],
          "name": "stdout"
        }
      ]
    },
    {
      "cell_type": "markdown",
      "metadata": {
        "id": "EkGgB0sIa-5R",
        "colab_type": "text"
      },
      "source": [
        "### Python Collections (Arrays)\n",
        "There are four collection data types in the Python programming language:\n",
        "\n",
        "###### List:\n",
        "List is a collection which is ordered and changeable. Allows duplicate members.\n",
        "###### Tuple: \n",
        "Tuple is a collection which is ordered and unchangeable. Allows duplicate members.\n",
        "###### Set: \n",
        "Set is a collection which is unordered and unindexed. No duplicate members.\n",
        "###### Dictionary: \n",
        "Dictionary is a collection which is unordered, changeable and indexed. No duplicate members.it contains Key-value pair."
      ]
    },
    {
      "cell_type": "code",
      "metadata": {
        "id": "iZWqWWa8a-5S",
        "colab_type": "code",
        "colab": {
          "base_uri": "https://localhost:8080/",
          "height": 136
        },
        "outputId": "a45a0290-146a-4588-aa9e-1e4a1aac2b49"
      },
      "source": [
        "# List\n",
        "branches=[\"CSE\",\"IT\",\"ECE\",\"ME\"]\n",
        "ranking=[1,2,3,4,5]\n",
        "print(branches)\n",
        "print(ranking)\n",
        "print(branches[2])\n",
        "print(branches[-1])\n",
        "print(branches[1:4])\n",
        "print(branches[:3])\n",
        "branches[1]='AI'\n",
        "print(branches)\n"
      ],
      "execution_count": null,
      "outputs": [
        {
          "output_type": "stream",
          "text": [
            "['CSE', 'IT', 'ECE', 'ME']\n",
            "[1, 2, 3, 4, 5]\n",
            "ECE\n",
            "ME\n",
            "['IT', 'ECE', 'ME']\n",
            "['CSE', 'IT', 'ECE']\n",
            "['CSE', 'AI', 'ECE', 'ME']\n"
          ],
          "name": "stdout"
        }
      ]
    },
    {
      "cell_type": "markdown",
      "metadata": {
        "id": "2K6VTlpQa-5Z",
        "colab_type": "text"
      },
      "source": [
        "# Methods defined on list:\n",
        " Method\tDescription\n",
        "append()\tAdds an element at the end of the list\n",
        "clear()\tRemoves all the elements from the list\n",
        "copy()\tReturns a copy of the list\n",
        "count()\tReturns the number of elements with the specified value\n",
        "extend()\tAdd the elements of a list (or any iterable), to the end of the current list\n",
        "index()\tReturns the index of the first element with the specified value\n",
        "insert()\tAdds an element at the specified position\n",
        "pop()\tRemoves the element at the specified position\n",
        "remove()\tRemoves the first item with the specified value\n",
        "reverse()\tReverses the order of the list\n",
        "sort()\tSorts the list"
      ]
    },
    {
      "cell_type": "code",
      "metadata": {
        "id": "wgAIFIq0a-5a",
        "colab_type": "code",
        "colab": {}
      },
      "source": [
        "# Tuple\n",
        "branch=(\"CSE\",\"IT\",\"ECE\",\"ME\", \"AI\")\n",
        "#print(branch)\n",
        "#print(branch[4])\n",
        "#print(branch[-2])\n",
        "#print(branch[2:5])\n",
        "#print(branch[:3])\n",
        "#branch[2]='AI'\n",
        "#print(branch)"
      ],
      "execution_count": null,
      "outputs": []
    },
    {
      "cell_type": "markdown",
      "metadata": {
        "id": "rChXAqGga-5h",
        "colab_type": "text"
      },
      "source": [
        "# Tuple methods\n",
        "Method\tDescription\n",
        "count()\tReturns the number of times a specified value occurs in a tuple.\n",
        "index()\tSearches the tuple for a specified value and returns the position of where it was found.\n"
      ]
    },
    {
      "cell_type": "code",
      "metadata": {
        "id": "1K31YZFsa-5j",
        "colab_type": "code",
        "colab": {
          "base_uri": "https://localhost:8080/",
          "height": 51
        },
        "outputId": "44c1b00a-9858-446d-c392-3d9110980270"
      },
      "source": [
        "# Sets\n",
        "br={\"CSE\",\"IT\",\"ECE\",\"ME\"}\n",
        "a={1,2,3,4}\n",
        "b={'a','b','c'}\n",
        "print(a)\n",
        "print(b)\n",
        "#print(b[1])\n",
        "#print(br)\n",
        "#print(br[1])\n",
        "#for i in br:# can not access individual items through index\n",
        " #   print(i)"
      ],
      "execution_count": null,
      "outputs": [
        {
          "output_type": "stream",
          "text": [
            "{1, 2, 3, 4}\n",
            "{'c', 'b', 'a'}\n"
          ],
          "name": "stdout"
        }
      ]
    },
    {
      "cell_type": "markdown",
      "metadata": {
        "id": "F2mw7XWUa-5r",
        "colab_type": "text"
      },
      "source": [
        "# Methods for sets\n",
        "Method\tDescription\n",
        "add()\tAdds an element to the set\n",
        "clear()\tRemoves all the elements from the set\n",
        "copy()\tReturns a copy of the set\n",
        "difference()\tReturns a set containing the difference between two or more sets\n",
        "difference_update()\tRemoves the items in this set that are also included in another, specified set\n",
        "discard()\tRemove the specified item\n",
        "intersection()\tReturns a set, that is the intersection of two other sets\n",
        "intersection_update()\tRemoves the items in this set that are not present in other, specified set(s)\n",
        "isdisjoint()\tReturns whether two sets have a intersection or not\n",
        "issubset()\tReturns whether another set contains this set or not\n",
        "issuperset()\tReturns whether this set contains another set or not\n",
        "pop()\tRemoves an element from the set\n",
        "remove()\tRemoves the specified element\n",
        "symmetric_difference()\tReturns a set with the symmetric differences of two sets\n",
        "symmetric_difference_update()\tinserts the symmetric differences from this set and another\n",
        "union()\tReturn a set containing the union of sets\n",
        "update()\tUpdate the set with the union of this set and others"
      ]
    },
    {
      "cell_type": "code",
      "metadata": {
        "scrolled": true,
        "id": "b-lVH-yKa-5t",
        "colab_type": "code",
        "colab": {
          "base_uri": "https://localhost:8080/",
          "height": 187
        },
        "outputId": "423151a6-00bf-466a-d39d-29ceefbbbf21"
      },
      "source": [
        "# Dictionary\n",
        "comp={ \"cpu\":\"Intel i3\",\n",
        "      \"RAM\":\"4.0GB\",\n",
        "      \"HDD\":\"500GB\",\n",
        "      \"Make\":\"HP\",\n",
        "      \"Year\":2015\n",
        "     }\n",
        "#print(comp)\n",
        "#print(comp[\"Make\"])\n",
        "#comp[\"Year\"]=2014\n",
        "#print(comp[\"Year\"])\n",
        "#print(comp)\n",
        "for i in comp:\n",
        "    print(i)\n",
        "for i in comp:\n",
        "    print(comp[i])"
      ],
      "execution_count": null,
      "outputs": [
        {
          "output_type": "stream",
          "text": [
            "cpu\n",
            "RAM\n",
            "HDD\n",
            "Make\n",
            "Year\n",
            "Intel i3\n",
            "4.0GB\n",
            "500GB\n",
            "HP\n",
            "2015\n"
          ],
          "name": "stdout"
        }
      ]
    },
    {
      "cell_type": "markdown",
      "metadata": {
        "id": "Y0PzEO6-a-5z",
        "colab_type": "text"
      },
      "source": [
        "# Dictionary Methods\n",
        "Method\tDescription\n",
        "clear()\tRemoves all the elements from the dictionary\n",
        "copy()\tReturns a copy of the dictionary\n",
        "fromkeys()\tReturns a dictionary with the specified keys and value\n",
        "get()\tReturns the value of the specified key\n",
        "items()\tReturns a list containing a tuple for each key value pair\n",
        "keys()\tReturns a list containing the dictionary's keys\n",
        "pop()\tRemoves the element with the specified key\n",
        "popitem()\tRemoves the last inserted key-value pair\n",
        "setdefault()\tReturns the value of the specified key. If the key does not exist: insert the key, with the specified value\n",
        "update()\tUpdates the dictionary with the specified key-value pairs\n",
        "values()\tReturns a list of all the values in the dictionary"
      ]
    },
    {
      "cell_type": "markdown",
      "metadata": {
        "id": "wotlcaGma-51",
        "colab_type": "text"
      },
      "source": [
        "# Python Operators\n",
        "Operators are used to perform operations on variables and values.\n",
        "\n",
        "Python divides the operators in the following groups:\n",
        "\n",
        "### Arithmetic operators\n",
        "### Assignment operators\n",
        "### Comparison operators\n",
        "### Logical operators\n",
        "### Identity operators\n",
        "### Membership operators\n",
        "### Bitwise operators"
      ]
    },
    {
      "cell_type": "markdown",
      "metadata": {
        "id": "-QUtThfVa-52",
        "colab_type": "text"
      },
      "source": [
        "# Arithmetic Operators\n",
        "Operator\tName\t           Example\t\n",
        "+\t        Addition\t        x + y\t\n",
        "-\t        Subtraction\t        x - y\t\n",
        "*\t        Multiplication\t    x * y\t\n",
        "/\t        Division\t        x / y\t\n",
        "%\t        Modulus\t            x % y\t\n",
        "**\t        Exponentiation\t    x ** y\t\n",
        "//\t        Floor division\t    x // y"
      ]
    },
    {
      "cell_type": "markdown",
      "metadata": {
        "id": "mpcTYdJta-53",
        "colab_type": "text"
      },
      "source": [
        "# Assignment Operators\n",
        "Operator\tExample\t     Same As\t\n",
        "=\t         x = 5\t      x = 5\t\n",
        "+=\t         x += 3\t      x = x + 3\t\n",
        "-=\t         x -= 3\t      x = x - 3\t\n",
        "*=\t         x *= 3\t      x = x * 3\t\n",
        "/=\t         x /= 3\t      x = x / 3\t\n",
        "%=\t         x %= 3\t      x = x % 3\t\n",
        "//=\t         x //= 3\t  x = x // 3\t\n",
        "**=\t         x **= 3\t  x = x ** 3\t\n",
        "&=\t         x &= 3\t      x = x & 3\t\n",
        "|=\t         x |= 3\t      x = x | 3\t\n",
        "^=\t         x ^= 3\t      x = x ^ 3\t\n",
        ">>=\t         x >>= 3\t  x = x >> 3\t\n",
        "<<=\t         x <<= 3\t  x = x << 3"
      ]
    },
    {
      "cell_type": "markdown",
      "metadata": {
        "id": "OIq_XRwha-54",
        "colab_type": "text"
      },
      "source": [
        "# Comparision Operator\n",
        "Operator\t Name\t                   Example\t\n",
        "==\t         Equal\t                    x == y\t\n",
        "!=\t         Not equal\t                x != y\t\n",
        ">\t         Greater than\t            x > y\t\n",
        "<\t         Less than\t                x < y\t\n",
        ">=\t         Greater than or equal to\tx >= y\t\n",
        "<=\t         Less than or equal to\t    x <= y"
      ]
    },
    {
      "cell_type": "markdown",
      "metadata": {
        "id": "Mq0bSo4Na-55",
        "colab_type": "text"
      },
      "source": [
        "# Logical Operator\n",
        "Operator\tDescription\t                                           Example\t\n",
        "and \t    Returns True if both statements are true\t      x < 5 and  x < 10\t\n",
        "or\t        Returns True if one of the statements is true\t  x < 5 or x < 4\t\n",
        "not\t        Reverse the result, returns False if the result is true\tnot(x < 5 and x < 10)"
      ]
    },
    {
      "cell_type": "markdown",
      "metadata": {
        "id": "nFcucAuga-57",
        "colab_type": "text"
      },
      "source": [
        "# Identity operator\n",
        "Operator\tDescription\t                                     Example\t\n",
        "is \t        Returns True if both variables are the same      object\tx is y\t\n",
        "is not\t    Returns True if both variables are not the same  object\tx is not y"
      ]
    },
    {
      "cell_type": "markdown",
      "metadata": {
        "id": "6_JPi-Ioa-58",
        "colab_type": "text"
      },
      "source": [
        "# Membership Operator\n",
        "\n",
        "Operator\tDescription\t                                               Example\t\n",
        "in       \tReturns True if a sequence with the specified value is present in the object\t                                                         x in y\t\n",
        "not in\t    Returns True if a sequence with the specified value is not present in the object\t                                                    x not in y"
      ]
    },
    {
      "cell_type": "markdown",
      "metadata": {
        "id": "zmP5zwdha-59",
        "colab_type": "text"
      },
      "source": [
        "# Bitwise Operator\n",
        "Operator\tName\t                Description\n",
        "& \t        AND\t                     Sets each bit to 1 if both bits are 1\n",
        "|\t        OR\t                     Sets each bit to 1 if one of two bits is 1\n",
        " ^\t        XOR\t                     Sets each bit to 1 if only one of two bits is 1\n",
        "~ \t        NOT\t                     Inverts all the bits\n",
        "<<\t        Zero fill left shift\t Shift left by pushing zeros in from the right and let the leftmost bits fall off\n",
        ">>\t        Signed right shift\t     Shift right by pushing copies of the leftmost bit in from the left, and let the rightmost bits fall off\n"
      ]
    },
    {
      "cell_type": "code",
      "metadata": {
        "id": "8xeqCXMTa-5-",
        "colab_type": "code",
        "colab": {
          "base_uri": "https://localhost:8080/",
          "height": 85
        },
        "outputId": "0b56941d-06b3-495b-8a56-f2aeea1ad711"
      },
      "source": [
        "# if else\n",
        "a=input(\"Enter a:\")\n",
        "b=input(\"Enter b:\")\n",
        "if int(a)<int(b):\n",
        "    print(b, 'is greater')\n",
        "else:\n",
        "    print(a, 'is greater')\n",
        "type(a)\n"
      ],
      "execution_count": null,
      "outputs": [
        {
          "output_type": "stream",
          "text": [
            "Enter a:5\n",
            "Enter b:6\n",
            "6 is greater\n"
          ],
          "name": "stdout"
        },
        {
          "output_type": "execute_result",
          "data": {
            "text/plain": [
              "str"
            ]
          },
          "metadata": {
            "tags": []
          },
          "execution_count": 12
        }
      ]
    },
    {
      "cell_type": "markdown",
      "metadata": {
        "id": "FKOAkTp8a-6F",
        "colab_type": "text"
      },
      "source": [
        "# Python Loops\n",
        "Python has two primitive loop commands:\n",
        "\n",
        "while loops\n",
        "for loops"
      ]
    },
    {
      "cell_type": "code",
      "metadata": {
        "id": "1a8sop5va-6G",
        "colab_type": "code",
        "colab": {
          "base_uri": "https://localhost:8080/",
          "height": 187
        },
        "outputId": "4967655d-fbaa-49cf-f837-da92b3b59da8"
      },
      "source": [
        "# while loop\n",
        "i = 1\n",
        "while i <= 10:\n",
        "    print(i)\n",
        "    i += 1"
      ],
      "execution_count": null,
      "outputs": [
        {
          "output_type": "stream",
          "text": [
            "1\n",
            "2\n",
            "3\n",
            "4\n",
            "5\n",
            "6\n",
            "7\n",
            "8\n",
            "9\n",
            "10\n"
          ],
          "name": "stdout"
        }
      ]
    },
    {
      "cell_type": "code",
      "metadata": {
        "id": "SdZs9-4ma-6P",
        "colab_type": "code",
        "colab": {
          "base_uri": "https://localhost:8080/",
          "height": 119
        },
        "outputId": "515dc3b2-ae06-4455-b0d3-07d8719cd4a3"
      },
      "source": [
        "# while loop 2\n",
        "i = 1\n",
        "while i <=5:\n",
        "  print(i)\n",
        "  i += 1\n",
        "print(\"i is no longer less than 5\")\n"
      ],
      "execution_count": null,
      "outputs": [
        {
          "output_type": "stream",
          "text": [
            "1\n",
            "2\n",
            "3\n",
            "4\n",
            "5\n",
            "i is no longer less than 5\n"
          ],
          "name": "stdout"
        }
      ]
    },
    {
      "cell_type": "code",
      "metadata": {
        "id": "HYulHKc6a-6V",
        "colab_type": "code",
        "colab": {
          "base_uri": "https://localhost:8080/",
          "height": 102
        },
        "outputId": "703d47fe-5639-46b9-d2d2-f04dc2748b65"
      },
      "source": [
        "# for loop\n",
        "a=[1,2,3,4,5]\n",
        "for i in a:\n",
        "    print(i)"
      ],
      "execution_count": null,
      "outputs": [
        {
          "output_type": "stream",
          "text": [
            "1\n",
            "2\n",
            "3\n",
            "4\n",
            "5\n"
          ],
          "name": "stdout"
        }
      ]
    },
    {
      "cell_type": "code",
      "metadata": {
        "id": "2C70DGy9a-6b",
        "colab_type": "code",
        "colab": {
          "base_uri": "https://localhost:8080/",
          "height": 187
        },
        "outputId": "87f7a082-8f33-4a0c-bbf3-93a6149c9900"
      },
      "source": [
        "# for loop 2\n",
        "for x in range(10):\n",
        "    print(x)"
      ],
      "execution_count": null,
      "outputs": [
        {
          "output_type": "stream",
          "text": [
            "0\n",
            "1\n",
            "2\n",
            "3\n",
            "4\n",
            "5\n",
            "6\n",
            "7\n",
            "8\n",
            "9\n"
          ],
          "name": "stdout"
        }
      ]
    },
    {
      "cell_type": "code",
      "metadata": {
        "id": "q7YpihDla-6h",
        "colab_type": "code",
        "colab": {
          "base_uri": "https://localhost:8080/",
          "height": 204
        },
        "outputId": "58cc1fad-3e7e-48e6-b74d-9cd0e3c03a4c"
      },
      "source": [
        "# for loop 3\n",
        "for x in range(4,15):\n",
        "    print(x)"
      ],
      "execution_count": null,
      "outputs": [
        {
          "output_type": "stream",
          "text": [
            "4\n",
            "5\n",
            "6\n",
            "7\n",
            "8\n",
            "9\n",
            "10\n",
            "11\n",
            "12\n",
            "13\n",
            "14\n"
          ],
          "name": "stdout"
        }
      ]
    },
    {
      "cell_type": "code",
      "metadata": {
        "id": "-Zrvg8zka-6n",
        "colab_type": "code",
        "colab": {
          "base_uri": "https://localhost:8080/",
          "height": 187
        },
        "outputId": "904b1659-9316-4e37-bfae-25f62832c3cc"
      },
      "source": [
        "# for loop 3\n",
        "for x in range(3,31,3):\n",
        "    print(x)"
      ],
      "execution_count": null,
      "outputs": [
        {
          "output_type": "stream",
          "text": [
            "3\n",
            "6\n",
            "9\n",
            "12\n",
            "15\n",
            "18\n",
            "21\n",
            "24\n",
            "27\n",
            "30\n"
          ],
          "name": "stdout"
        }
      ]
    },
    {
      "cell_type": "markdown",
      "metadata": {
        "id": "68Snwwoga-6t",
        "colab_type": "text"
      },
      "source": [
        "# Functions in python\n",
        "A function is a block of code which only runs when it is called.\n",
        "You can pass data, known as parameters, into a function.\n",
        "A function can return data as a result."
      ]
    },
    {
      "cell_type": "code",
      "metadata": {
        "id": "VLGlx93Sa-6u",
        "colab_type": "code",
        "colab": {}
      },
      "source": [
        "# defining and calling a function\n",
        "def fun():\n",
        "    print(\"Fun with python and Machine Learning\")"
      ],
      "execution_count": null,
      "outputs": []
    },
    {
      "cell_type": "code",
      "metadata": {
        "id": "AEBCEs26a-62",
        "colab_type": "code",
        "colab": {
          "base_uri": "https://localhost:8080/",
          "height": 34
        },
        "outputId": "17c4879f-6f22-4afb-d1e7-cd072b868599"
      },
      "source": [
        "fun()"
      ],
      "execution_count": null,
      "outputs": [
        {
          "output_type": "stream",
          "text": [
            "Fun with python and Machine Learning\n"
          ],
          "name": "stdout"
        }
      ]
    },
    {
      "cell_type": "code",
      "metadata": {
        "id": "jeIbX8HKa-67",
        "colab_type": "code",
        "colab": {
          "base_uri": "https://localhost:8080/",
          "height": 68
        },
        "outputId": "7cff6a57-3278-4f78-fc35-2314a06d9d52"
      },
      "source": [
        "# defining and calling a function\n",
        "def sum(n):\n",
        "    i=1\n",
        "    s=0\n",
        "    while i<=n:\n",
        "        s=s+i\n",
        "        i=i+1\n",
        "    return s\n",
        "m=input(\"Enter the number: \")\n",
        "print(type(m))\n",
        "o=sum(int(m))\n",
        "print(\"The sum upto\",m,\"numbers is:\",o )"
      ],
      "execution_count": null,
      "outputs": [
        {
          "output_type": "stream",
          "text": [
            "Enter the number: 8\n",
            "<class 'str'>\n",
            "The sum upto 8 numbers is: 36\n"
          ],
          "name": "stdout"
        }
      ]
    },
    {
      "cell_type": "markdown",
      "metadata": {
        "id": "aGFoxcSDa-7C",
        "colab_type": "text"
      },
      "source": [
        "# Class and Objects: \n",
        "Class is like a blue print to create the object. \n",
        "Almost everything in python is an object."
      ]
    },
    {
      "cell_type": "code",
      "metadata": {
        "id": "jS404ybDa-7D",
        "colab_type": "code",
        "colab": {
          "base_uri": "https://localhost:8080/",
          "height": 119
        },
        "outputId": "e84ccacc-a728-415a-f7f5-a9b01c875040"
      },
      "source": [
        "# Defining a class and creating the object of it.\n",
        "class box:\n",
        "    l=5\n",
        "    b=4\n",
        "    h=3\n",
        "x=box()\n",
        "#print(x)\n",
        "print(x.l,x.b,x.h)\n",
        "# function _init_()\n",
        "class box:\n",
        "    def __init__(self,l,b,h):\n",
        "        self.l=l\n",
        "        self.b=b\n",
        "        self.h=h\n",
        "    def volume(self):\n",
        "        return self.l*self.b*self.h\n",
        "        \n",
        "x=box(2,2,2)\n",
        "y=box(4,5,6)\n",
        "print(x.l,x.b,x.h)\n",
        "print(x.volume())\n",
        "print(y.l,y.b,y.h)\n",
        "print(y.volume())\n",
        "type(x)"
      ],
      "execution_count": null,
      "outputs": [
        {
          "output_type": "stream",
          "text": [
            "5 4 3\n",
            "2 2 2\n",
            "8\n",
            "4 5 6\n",
            "120\n"
          ],
          "name": "stdout"
        },
        {
          "output_type": "execute_result",
          "data": {
            "text/plain": [
              "__main__.box"
            ]
          },
          "metadata": {
            "tags": []
          },
          "execution_count": 22
        }
      ]
    },
    {
      "cell_type": "markdown",
      "metadata": {
        "id": "ODcNHYWda-7K",
        "colab_type": "text"
      },
      "source": [
        "# References\n",
        "1. https://www.w3schools.com/python/"
      ]
    }
  ]
}